{
 "cells": [
  {
   "cell_type": "markdown",
   "metadata": {},
   "source": [
    "# Análisis de ventas de vehículos de segunda mano"
   ]
  },
  {
   "cell_type": "markdown",
   "metadata": {},
   "source": [
    "Para nuestro proyecto, decidimos hacer un análisis de los datos de anuncios de ventas de autos usados en toda España publicados en las principales plataformas. "
   ]
  },
  {
   "cell_type": "markdown",
   "metadata": {},
   "source": [
    "## Importando las librerias necesarias para el análisis"
   ]
  },
  {
   "cell_type": "code",
   "execution_count": 9,
   "metadata": {},
   "outputs": [],
   "source": [
    "import pandas as pd\n",
    "import matplotlib.pyplot as plt\n",
    "#import seaborn as sns\n",
    "import numpy as np\n",
    "import plotly.express as px"
   ]
  },
  {
   "cell_type": "code",
   "execution_count": 10,
   "metadata": {},
   "outputs": [
    {
     "data": {
      "text/html": [
       "<div>\n",
       "<style scoped>\n",
       "    .dataframe tbody tr th:only-of-type {\n",
       "        vertical-align: middle;\n",
       "    }\n",
       "\n",
       "    .dataframe tbody tr th {\n",
       "        vertical-align: top;\n",
       "    }\n",
       "\n",
       "    .dataframe thead th {\n",
       "        text-align: right;\n",
       "    }\n",
       "</style>\n",
       "<table border=\"1\" class=\"dataframe\">\n",
       "  <thead>\n",
       "    <tr style=\"text-align: right;\">\n",
       "      <th></th>\n",
       "      <th>url</th>\n",
       "      <th>company</th>\n",
       "      <th>make</th>\n",
       "      <th>model</th>\n",
       "      <th>version</th>\n",
       "      <th>price</th>\n",
       "      <th>price_financed</th>\n",
       "      <th>fuel</th>\n",
       "      <th>year</th>\n",
       "      <th>kms</th>\n",
       "      <th>...</th>\n",
       "      <th>doors</th>\n",
       "      <th>shift</th>\n",
       "      <th>color</th>\n",
       "      <th>photos</th>\n",
       "      <th>is_professional</th>\n",
       "      <th>dealer</th>\n",
       "      <th>province</th>\n",
       "      <th>country</th>\n",
       "      <th>publish_date</th>\n",
       "      <th>insert_date</th>\n",
       "    </tr>\n",
       "  </thead>\n",
       "  <tbody>\n",
       "    <tr>\n",
       "      <th>0</th>\n",
       "      <td>e158ae0ca53119ca199c28c36b5c2fcd</td>\n",
       "      <td>9881bcdd5a0ad4733037b3fb25e69c3a</td>\n",
       "      <td>SEAT</td>\n",
       "      <td>Toledo</td>\n",
       "      <td>SEAT Toledo  4p.</td>\n",
       "      <td>950</td>\n",
       "      <td>NaN</td>\n",
       "      <td>Diésel</td>\n",
       "      <td>2000.0</td>\n",
       "      <td>227000</td>\n",
       "      <td>...</td>\n",
       "      <td>4</td>\n",
       "      <td>Manual</td>\n",
       "      <td>Verde</td>\n",
       "      <td>5</td>\n",
       "      <td>False</td>\n",
       "      <td>0f4bb8455d27349b8273109b66a847f3</td>\n",
       "      <td>Navarra</td>\n",
       "      <td>Spain</td>\n",
       "      <td>2020-12-18 10:47:13</td>\n",
       "      <td>2021-01-15 00:00:00</td>\n",
       "    </tr>\n",
       "    <tr>\n",
       "      <th>1</th>\n",
       "      <td>ff267ebb7e700246f47f84f3db660b4b</td>\n",
       "      <td>9881bcdd5a0ad4733037b3fb25e69c3a</td>\n",
       "      <td>CITROEN</td>\n",
       "      <td>C1</td>\n",
       "      <td>CITROEN C1 PureTech 60KW 82CV Feel 5p.</td>\n",
       "      <td>6200</td>\n",
       "      <td>NaN</td>\n",
       "      <td>Gasolina</td>\n",
       "      <td>2017.0</td>\n",
       "      <td>50071</td>\n",
       "      <td>...</td>\n",
       "      <td>5</td>\n",
       "      <td>Manual</td>\n",
       "      <td>Blanco</td>\n",
       "      <td>6</td>\n",
       "      <td>True</td>\n",
       "      <td>Autos Raymara</td>\n",
       "      <td>Tenerife</td>\n",
       "      <td>Spain</td>\n",
       "      <td>2021-01-02 11:25:40</td>\n",
       "      <td>2021-01-15 00:00:00</td>\n",
       "    </tr>\n",
       "    <tr>\n",
       "      <th>2</th>\n",
       "      <td>de4b02db28ea7786c622b969be10c7c7</td>\n",
       "      <td>9881bcdd5a0ad4733037b3fb25e69c3a</td>\n",
       "      <td>FORD</td>\n",
       "      <td>Transit Connect</td>\n",
       "      <td>FORD Transit Connect Van 1.5 TDCi 100cv Ambien...</td>\n",
       "      <td>7851</td>\n",
       "      <td>7024.0</td>\n",
       "      <td>Diésel</td>\n",
       "      <td>2016.0</td>\n",
       "      <td>103000</td>\n",
       "      <td>...</td>\n",
       "      <td>4</td>\n",
       "      <td>Manual</td>\n",
       "      <td>Blanco</td>\n",
       "      <td>10</td>\n",
       "      <td>True</td>\n",
       "      <td>Auto 96</td>\n",
       "      <td>Barcelona</td>\n",
       "      <td>Spain</td>\n",
       "      <td>2020-12-16 10:51:45</td>\n",
       "      <td>2021-01-15 00:00:00</td>\n",
       "    </tr>\n",
       "    <tr>\n",
       "      <th>3</th>\n",
       "      <td>0449972a4d07594acf92e9a7dd28b39c</td>\n",
       "      <td>9881bcdd5a0ad4733037b3fb25e69c3a</td>\n",
       "      <td>VOLKSWAGEN</td>\n",
       "      <td>Caravelle</td>\n",
       "      <td>VOLKSWAGEN Caravelle Largo 2.0 TDI 140 Comfort...</td>\n",
       "      <td>19426</td>\n",
       "      <td>NaN</td>\n",
       "      <td>Diésel</td>\n",
       "      <td>2014.0</td>\n",
       "      <td>120000</td>\n",
       "      <td>...</td>\n",
       "      <td>4</td>\n",
       "      <td>Manual</td>\n",
       "      <td>Blanco</td>\n",
       "      <td>9</td>\n",
       "      <td>True</td>\n",
       "      <td>Inniauto</td>\n",
       "      <td>Navarra</td>\n",
       "      <td>Spain</td>\n",
       "      <td>2020-11-25 11:09:14</td>\n",
       "      <td>2021-01-15 00:00:00</td>\n",
       "    </tr>\n",
       "    <tr>\n",
       "      <th>4</th>\n",
       "      <td>12c4fa49bd4fdf23f19ecf396d3f02ef</td>\n",
       "      <td>9881bcdd5a0ad4733037b3fb25e69c3a</td>\n",
       "      <td>FORD</td>\n",
       "      <td>Transit</td>\n",
       "      <td>FORD Transit 350 96kW L4 Ambiente Propulsion T...</td>\n",
       "      <td>22850</td>\n",
       "      <td>22800.0</td>\n",
       "      <td>Diésel</td>\n",
       "      <td>2017.0</td>\n",
       "      <td>107000</td>\n",
       "      <td>...</td>\n",
       "      <td>2</td>\n",
       "      <td>Manual</td>\n",
       "      <td>Blanco</td>\n",
       "      <td>4</td>\n",
       "      <td>True</td>\n",
       "      <td>Autofleet España,s.l</td>\n",
       "      <td>Sevilla</td>\n",
       "      <td>Spain</td>\n",
       "      <td>2021-01-12 20:00:34</td>\n",
       "      <td>2021-01-15 00:00:00</td>\n",
       "    </tr>\n",
       "  </tbody>\n",
       "</table>\n",
       "<p>5 rows × 21 columns</p>\n",
       "</div>"
      ],
      "text/plain": [
       "                                url                           company  \\\n",
       "0  e158ae0ca53119ca199c28c36b5c2fcd  9881bcdd5a0ad4733037b3fb25e69c3a   \n",
       "1  ff267ebb7e700246f47f84f3db660b4b  9881bcdd5a0ad4733037b3fb25e69c3a   \n",
       "2  de4b02db28ea7786c622b969be10c7c7  9881bcdd5a0ad4733037b3fb25e69c3a   \n",
       "3  0449972a4d07594acf92e9a7dd28b39c  9881bcdd5a0ad4733037b3fb25e69c3a   \n",
       "4  12c4fa49bd4fdf23f19ecf396d3f02ef  9881bcdd5a0ad4733037b3fb25e69c3a   \n",
       "\n",
       "         make            model  \\\n",
       "0        SEAT           Toledo   \n",
       "1     CITROEN               C1   \n",
       "2        FORD  Transit Connect   \n",
       "3  VOLKSWAGEN        Caravelle   \n",
       "4        FORD          Transit   \n",
       "\n",
       "                                             version  price  price_financed  \\\n",
       "0                                   SEAT Toledo  4p.    950             NaN   \n",
       "1             CITROEN C1 PureTech 60KW 82CV Feel 5p.   6200             NaN   \n",
       "2  FORD Transit Connect Van 1.5 TDCi 100cv Ambien...   7851          7024.0   \n",
       "3  VOLKSWAGEN Caravelle Largo 2.0 TDI 140 Comfort...  19426             NaN   \n",
       "4  FORD Transit 350 96kW L4 Ambiente Propulsion T...  22850         22800.0   \n",
       "\n",
       "       fuel    year     kms  ...  doors   shift   color photos  \\\n",
       "0    Diésel  2000.0  227000  ...      4  Manual   Verde      5   \n",
       "1  Gasolina  2017.0   50071  ...      5  Manual  Blanco      6   \n",
       "2    Diésel  2016.0  103000  ...      4  Manual  Blanco     10   \n",
       "3    Diésel  2014.0  120000  ...      4  Manual  Blanco      9   \n",
       "4    Diésel  2017.0  107000  ...      2  Manual  Blanco      4   \n",
       "\n",
       "   is_professional                            dealer   province country  \\\n",
       "0            False  0f4bb8455d27349b8273109b66a847f3    Navarra   Spain   \n",
       "1             True                     Autos Raymara   Tenerife   Spain   \n",
       "2             True                           Auto 96  Barcelona   Spain   \n",
       "3             True                          Inniauto    Navarra   Spain   \n",
       "4             True              Autofleet España,s.l    Sevilla   Spain   \n",
       "\n",
       "          publish_date          insert_date  \n",
       "0  2020-12-18 10:47:13  2021-01-15 00:00:00  \n",
       "1  2021-01-02 11:25:40  2021-01-15 00:00:00  \n",
       "2  2020-12-16 10:51:45  2021-01-15 00:00:00  \n",
       "3  2020-11-25 11:09:14  2021-01-15 00:00:00  \n",
       "4  2021-01-12 20:00:34  2021-01-15 00:00:00  \n",
       "\n",
       "[5 rows x 21 columns]"
      ]
     },
     "execution_count": 10,
     "metadata": {},
     "output_type": "execute_result"
    }
   ],
   "source": [
    "df = pd.read_csv('coches-de-segunda-mano-sample.csv')\n",
    "df.head()"
   ]
  },
  {
   "cell_type": "markdown",
   "metadata": {},
   "source": [
    "# Preprocesamiento\n",
    "Primero, eliminamos las columnas **url**, **company** y **country** para optimizar el cálculo y reducir el uso de memoria. Esta decisión se tomó porque dichas columnas no se consideran relevantes para el análisis."
   ]
  },
  {
   "cell_type": "code",
   "execution_count": 11,
   "metadata": {},
   "outputs": [
    {
     "data": {
      "text/html": [
       "<div>\n",
       "<style scoped>\n",
       "    .dataframe tbody tr th:only-of-type {\n",
       "        vertical-align: middle;\n",
       "    }\n",
       "\n",
       "    .dataframe tbody tr th {\n",
       "        vertical-align: top;\n",
       "    }\n",
       "\n",
       "    .dataframe thead th {\n",
       "        text-align: right;\n",
       "    }\n",
       "</style>\n",
       "<table border=\"1\" class=\"dataframe\">\n",
       "  <thead>\n",
       "    <tr style=\"text-align: right;\">\n",
       "      <th></th>\n",
       "      <th>make</th>\n",
       "      <th>model</th>\n",
       "      <th>version</th>\n",
       "      <th>price</th>\n",
       "      <th>price_financed</th>\n",
       "      <th>fuel</th>\n",
       "      <th>year</th>\n",
       "      <th>kms</th>\n",
       "      <th>power</th>\n",
       "      <th>doors</th>\n",
       "      <th>shift</th>\n",
       "      <th>color</th>\n",
       "      <th>photos</th>\n",
       "      <th>is_professional</th>\n",
       "      <th>dealer</th>\n",
       "      <th>province</th>\n",
       "      <th>publish_date</th>\n",
       "      <th>insert_date</th>\n",
       "    </tr>\n",
       "  </thead>\n",
       "  <tbody>\n",
       "    <tr>\n",
       "      <th>0</th>\n",
       "      <td>SEAT</td>\n",
       "      <td>Toledo</td>\n",
       "      <td>SEAT Toledo  4p.</td>\n",
       "      <td>950</td>\n",
       "      <td>NaN</td>\n",
       "      <td>Diésel</td>\n",
       "      <td>2000.0</td>\n",
       "      <td>227000</td>\n",
       "      <td>NaN</td>\n",
       "      <td>4</td>\n",
       "      <td>Manual</td>\n",
       "      <td>Verde</td>\n",
       "      <td>5</td>\n",
       "      <td>False</td>\n",
       "      <td>0f4bb8455d27349b8273109b66a847f3</td>\n",
       "      <td>Navarra</td>\n",
       "      <td>2020-12-18 10:47:13</td>\n",
       "      <td>2021-01-15 00:00:00</td>\n",
       "    </tr>\n",
       "    <tr>\n",
       "      <th>1</th>\n",
       "      <td>CITROEN</td>\n",
       "      <td>C1</td>\n",
       "      <td>CITROEN C1 PureTech 60KW 82CV Feel 5p.</td>\n",
       "      <td>6200</td>\n",
       "      <td>NaN</td>\n",
       "      <td>Gasolina</td>\n",
       "      <td>2017.0</td>\n",
       "      <td>50071</td>\n",
       "      <td>82.0</td>\n",
       "      <td>5</td>\n",
       "      <td>Manual</td>\n",
       "      <td>Blanco</td>\n",
       "      <td>6</td>\n",
       "      <td>True</td>\n",
       "      <td>Autos Raymara</td>\n",
       "      <td>Tenerife</td>\n",
       "      <td>2021-01-02 11:25:40</td>\n",
       "      <td>2021-01-15 00:00:00</td>\n",
       "    </tr>\n",
       "    <tr>\n",
       "      <th>2</th>\n",
       "      <td>FORD</td>\n",
       "      <td>Transit Connect</td>\n",
       "      <td>FORD Transit Connect Van 1.5 TDCi 100cv Ambien...</td>\n",
       "      <td>7851</td>\n",
       "      <td>7024.0</td>\n",
       "      <td>Diésel</td>\n",
       "      <td>2016.0</td>\n",
       "      <td>103000</td>\n",
       "      <td>100.0</td>\n",
       "      <td>4</td>\n",
       "      <td>Manual</td>\n",
       "      <td>Blanco</td>\n",
       "      <td>10</td>\n",
       "      <td>True</td>\n",
       "      <td>Auto 96</td>\n",
       "      <td>Barcelona</td>\n",
       "      <td>2020-12-16 10:51:45</td>\n",
       "      <td>2021-01-15 00:00:00</td>\n",
       "    </tr>\n",
       "    <tr>\n",
       "      <th>3</th>\n",
       "      <td>VOLKSWAGEN</td>\n",
       "      <td>Caravelle</td>\n",
       "      <td>VOLKSWAGEN Caravelle Largo 2.0 TDI 140 Comfort...</td>\n",
       "      <td>19426</td>\n",
       "      <td>NaN</td>\n",
       "      <td>Diésel</td>\n",
       "      <td>2014.0</td>\n",
       "      <td>120000</td>\n",
       "      <td>140.0</td>\n",
       "      <td>4</td>\n",
       "      <td>Manual</td>\n",
       "      <td>Blanco</td>\n",
       "      <td>9</td>\n",
       "      <td>True</td>\n",
       "      <td>Inniauto</td>\n",
       "      <td>Navarra</td>\n",
       "      <td>2020-11-25 11:09:14</td>\n",
       "      <td>2021-01-15 00:00:00</td>\n",
       "    </tr>\n",
       "    <tr>\n",
       "      <th>4</th>\n",
       "      <td>FORD</td>\n",
       "      <td>Transit</td>\n",
       "      <td>FORD Transit 350 96kW L4 Ambiente Propulsion T...</td>\n",
       "      <td>22850</td>\n",
       "      <td>22800.0</td>\n",
       "      <td>Diésel</td>\n",
       "      <td>2017.0</td>\n",
       "      <td>107000</td>\n",
       "      <td>130.0</td>\n",
       "      <td>2</td>\n",
       "      <td>Manual</td>\n",
       "      <td>Blanco</td>\n",
       "      <td>4</td>\n",
       "      <td>True</td>\n",
       "      <td>Autofleet España,s.l</td>\n",
       "      <td>Sevilla</td>\n",
       "      <td>2021-01-12 20:00:34</td>\n",
       "      <td>2021-01-15 00:00:00</td>\n",
       "    </tr>\n",
       "  </tbody>\n",
       "</table>\n",
       "</div>"
      ],
      "text/plain": [
       "         make            model  \\\n",
       "0        SEAT           Toledo   \n",
       "1     CITROEN               C1   \n",
       "2        FORD  Transit Connect   \n",
       "3  VOLKSWAGEN        Caravelle   \n",
       "4        FORD          Transit   \n",
       "\n",
       "                                             version  price  price_financed  \\\n",
       "0                                   SEAT Toledo  4p.    950             NaN   \n",
       "1             CITROEN C1 PureTech 60KW 82CV Feel 5p.   6200             NaN   \n",
       "2  FORD Transit Connect Van 1.5 TDCi 100cv Ambien...   7851          7024.0   \n",
       "3  VOLKSWAGEN Caravelle Largo 2.0 TDI 140 Comfort...  19426             NaN   \n",
       "4  FORD Transit 350 96kW L4 Ambiente Propulsion T...  22850         22800.0   \n",
       "\n",
       "       fuel    year     kms  power  doors   shift   color  photos  \\\n",
       "0    Diésel  2000.0  227000    NaN      4  Manual   Verde       5   \n",
       "1  Gasolina  2017.0   50071   82.0      5  Manual  Blanco       6   \n",
       "2    Diésel  2016.0  103000  100.0      4  Manual  Blanco      10   \n",
       "3    Diésel  2014.0  120000  140.0      4  Manual  Blanco       9   \n",
       "4    Diésel  2017.0  107000  130.0      2  Manual  Blanco       4   \n",
       "\n",
       "   is_professional                            dealer   province  \\\n",
       "0            False  0f4bb8455d27349b8273109b66a847f3    Navarra   \n",
       "1             True                     Autos Raymara   Tenerife   \n",
       "2             True                           Auto 96  Barcelona   \n",
       "3             True                          Inniauto    Navarra   \n",
       "4             True              Autofleet España,s.l    Sevilla   \n",
       "\n",
       "          publish_date          insert_date  \n",
       "0  2020-12-18 10:47:13  2021-01-15 00:00:00  \n",
       "1  2021-01-02 11:25:40  2021-01-15 00:00:00  \n",
       "2  2020-12-16 10:51:45  2021-01-15 00:00:00  \n",
       "3  2020-11-25 11:09:14  2021-01-15 00:00:00  \n",
       "4  2021-01-12 20:00:34  2021-01-15 00:00:00  "
      ]
     },
     "execution_count": 11,
     "metadata": {},
     "output_type": "execute_result"
    }
   ],
   "source": [
    "df.drop(columns=['url', 'company', 'country'], inplace=True)\n",
    "df.head()"
   ]
  },
  {
   "cell_type": "markdown",
   "metadata": {},
   "source": [
    "## Cálculo del precio medio de venta por cada marca en la muestra"
   ]
  },
  {
   "cell_type": "markdown",
   "metadata": {},
   "source": [
    "Es relevante para el análisis calcular el precio medio de venta de cada marca de coches, con el objetivo de obtener una visión más precisa sobre cuáles son las marcas más costosas y las más económicas en el mercado de coches de segunda mano, kilómetro cero y seminuevos. "
   ]
  },
  {
   "cell_type": "code",
   "execution_count": 12,
   "metadata": {},
   "outputs": [],
   "source": [
    "df2 = df.groupby('make')['price'].mean()\n",
    "df2a = df2.reset_index()\n",
    "df2a.columns = ['marca', 'precio_medio']"
   ]
  },
  {
   "cell_type": "code",
   "execution_count": 6,
   "metadata": {},
   "outputs": [
    {
     "data": {
      "text/html": [
       "<div>\n",
       "<style scoped>\n",
       "    .dataframe tbody tr th:only-of-type {\n",
       "        vertical-align: middle;\n",
       "    }\n",
       "\n",
       "    .dataframe tbody tr th {\n",
       "        vertical-align: top;\n",
       "    }\n",
       "\n",
       "    .dataframe thead th {\n",
       "        text-align: right;\n",
       "    }\n",
       "</style>\n",
       "<table border=\"1\" class=\"dataframe\">\n",
       "  <thead>\n",
       "    <tr style=\"text-align: right;\">\n",
       "      <th></th>\n",
       "      <th>marca</th>\n",
       "      <th>precio_medio</th>\n",
       "    </tr>\n",
       "  </thead>\n",
       "  <tbody>\n",
       "    <tr>\n",
       "      <th>0</th>\n",
       "      <td>ABARTH</td>\n",
       "      <td>19098.333333</td>\n",
       "    </tr>\n",
       "    <tr>\n",
       "      <th>1</th>\n",
       "      <td>ALFA ROMEO</td>\n",
       "      <td>13815.427152</td>\n",
       "    </tr>\n",
       "    <tr>\n",
       "      <th>2</th>\n",
       "      <td>ALPINE</td>\n",
       "      <td>66000.000000</td>\n",
       "    </tr>\n",
       "    <tr>\n",
       "      <th>3</th>\n",
       "      <td>ARO</td>\n",
       "      <td>1000.000000</td>\n",
       "    </tr>\n",
       "    <tr>\n",
       "      <th>4</th>\n",
       "      <td>ASTON MARTIN</td>\n",
       "      <td>89578.666667</td>\n",
       "    </tr>\n",
       "  </tbody>\n",
       "</table>\n",
       "</div>"
      ],
      "text/plain": [
       "          marca  precio_medio\n",
       "0        ABARTH  19098.333333\n",
       "1    ALFA ROMEO  13815.427152\n",
       "2        ALPINE  66000.000000\n",
       "3           ARO   1000.000000\n",
       "4  ASTON MARTIN  89578.666667"
      ]
     },
     "execution_count": 6,
     "metadata": {},
     "output_type": "execute_result"
    }
   ],
   "source": [
    "df2a.head()"
   ]
  },
  {
   "cell_type": "code",
   "execution_count": 7,
   "metadata": {},
   "outputs": [
    {
     "data": {
      "application/vnd.plotly.v1+json": {
       "config": {
        "plotlyServerURL": "https://plot.ly"
       },
       "data": [
        {
         "alignmentgroup": "True",
         "hovertemplate": "Marca=%{x}<br>Precio Medio (€)=%{marker.color}<extra></extra>",
         "legendgroup": "",
         "marker": {
          "color": [
           12941.313588850175,
           12836.858514724712,
           12688.287425149701,
           12325.873015873016,
           12250,
           11849.663793103447,
           11425.912037037036,
           11401.408267954133,
           11030.57142857143,
           10900,
           10500,
           10294.717265725289,
           10086.456989247312,
           9805.709183673469,
           9499.671682626538,
           9140.551313485113,
           9063.02217453505,
           9061.696514230893,
           8900,
           8483.906137184116,
           8000,
           7349.75,
           7339.464285714285,
           6803.241071428572,
           6268.903225806452,
           4900,
           4253.079365079365,
           3771.5342465753424,
           3500,
           3451.9,
           3070.3055555555557,
           2360.7272727272725,
           2271.818181818182,
           2000,
           1268.2,
           1000,
           500
          ],
          "coloraxis": "coloraxis",
          "pattern": {
           "shape": ""
          }
         },
         "name": "",
         "offsetgroup": "",
         "orientation": "v",
         "showlegend": false,
         "text": [
          12941.313588850175,
          12836.858514724712,
          12688.287425149701,
          12325.873015873016,
          12250,
          11849.663793103447,
          11425.912037037036,
          11401.408267954133,
          11030.57142857143,
          10900,
          10500,
          10294.717265725289,
          10086.456989247312,
          9805.709183673469,
          9499.671682626538,
          9140.551313485113,
          9063.02217453505,
          9061.696514230893,
          8900,
          8483.906137184116,
          8000,
          7349.75,
          7339.464285714285,
          6803.241071428572,
          6268.903225806452,
          4900,
          4253.079365079365,
          3771.5342465753424,
          3500,
          3451.9,
          3070.3055555555557,
          2360.7272727272725,
          2271.818181818182,
          2000,
          1268.2,
          1000,
          500
         ],
         "textposition": "outside",
         "texttemplate": "%{text:.2f} €",
         "type": "bar",
         "x": [
          "SKODA",
          "TOYOTA",
          "MITSUBISHI",
          "SUZUKI",
          "PONTIAC",
          "HONDA",
          "SSANGYONG",
          "PEUGEOT",
          "CADILLAC",
          "PIAGGIO",
          "AUSTIN",
          "FORD",
          "SEAT",
          "SMART",
          "OPEL",
          "CITROEN",
          "FIAT",
          "RENAULT",
          "LDV",
          "DACIA",
          "UMM",
          "SANTANA",
          "DODGE",
          "CHEVROLET",
          "LANCIA",
          "LADA",
          "CHRYSLER",
          "SAAB",
          "DAIHATSU",
          "GALLOPER",
          "ROVER",
          "TATA",
          "MG",
          "IVECO-PEGASO",
          "DAEWOO",
          "ARO",
          "VAZ"
         ],
         "xaxis": "x",
         "y": [
          12941.313588850175,
          12836.858514724712,
          12688.287425149701,
          12325.873015873016,
          12250,
          11849.663793103447,
          11425.912037037036,
          11401.408267954133,
          11030.57142857143,
          10900,
          10500,
          10294.717265725289,
          10086.456989247312,
          9805.709183673469,
          9499.671682626538,
          9140.551313485113,
          9063.02217453505,
          9061.696514230893,
          8900,
          8483.906137184116,
          8000,
          7349.75,
          7339.464285714285,
          6803.241071428572,
          6268.903225806452,
          4900,
          4253.079365079365,
          3771.5342465753424,
          3500,
          3451.9,
          3070.3055555555557,
          2360.7272727272725,
          2271.818181818182,
          2000,
          1268.2,
          1000,
          500
         ],
         "yaxis": "y"
        }
       ],
       "layout": {
        "barmode": "relative",
        "coloraxis": {
         "colorbar": {
          "title": {
           "text": "Precio Medio (€)"
          }
         },
         "colorscale": [
          [
           0,
           "rgb(247,251,255)"
          ],
          [
           0.125,
           "rgb(222,235,247)"
          ],
          [
           0.25,
           "rgb(198,219,239)"
          ],
          [
           0.375,
           "rgb(158,202,225)"
          ],
          [
           0.5,
           "rgb(107,174,214)"
          ],
          [
           0.625,
           "rgb(66,146,198)"
          ],
          [
           0.75,
           "rgb(33,113,181)"
          ],
          [
           0.875,
           "rgb(8,81,156)"
          ],
          [
           1,
           "rgb(8,48,107)"
          ]
         ],
         "showscale": false
        },
        "legend": {
         "tracegroupgap": 0
        },
        "margin": {
         "b": 120,
         "t": 50
        },
        "paper_bgcolor": "rgba(255,255,255,1)",
        "plot_bgcolor": "rgba(0,0,0,0)",
        "template": {
         "data": {
          "bar": [
           {
            "error_x": {
             "color": "#2a3f5f"
            },
            "error_y": {
             "color": "#2a3f5f"
            },
            "marker": {
             "line": {
              "color": "#E5ECF6",
              "width": 0.5
             },
             "pattern": {
              "fillmode": "overlay",
              "size": 10,
              "solidity": 0.2
             }
            },
            "type": "bar"
           }
          ],
          "barpolar": [
           {
            "marker": {
             "line": {
              "color": "#E5ECF6",
              "width": 0.5
             },
             "pattern": {
              "fillmode": "overlay",
              "size": 10,
              "solidity": 0.2
             }
            },
            "type": "barpolar"
           }
          ],
          "carpet": [
           {
            "aaxis": {
             "endlinecolor": "#2a3f5f",
             "gridcolor": "white",
             "linecolor": "white",
             "minorgridcolor": "white",
             "startlinecolor": "#2a3f5f"
            },
            "baxis": {
             "endlinecolor": "#2a3f5f",
             "gridcolor": "white",
             "linecolor": "white",
             "minorgridcolor": "white",
             "startlinecolor": "#2a3f5f"
            },
            "type": "carpet"
           }
          ],
          "choropleth": [
           {
            "colorbar": {
             "outlinewidth": 0,
             "ticks": ""
            },
            "type": "choropleth"
           }
          ],
          "contour": [
           {
            "colorbar": {
             "outlinewidth": 0,
             "ticks": ""
            },
            "colorscale": [
             [
              0,
              "#0d0887"
             ],
             [
              0.1111111111111111,
              "#46039f"
             ],
             [
              0.2222222222222222,
              "#7201a8"
             ],
             [
              0.3333333333333333,
              "#9c179e"
             ],
             [
              0.4444444444444444,
              "#bd3786"
             ],
             [
              0.5555555555555556,
              "#d8576b"
             ],
             [
              0.6666666666666666,
              "#ed7953"
             ],
             [
              0.7777777777777778,
              "#fb9f3a"
             ],
             [
              0.8888888888888888,
              "#fdca26"
             ],
             [
              1,
              "#f0f921"
             ]
            ],
            "type": "contour"
           }
          ],
          "contourcarpet": [
           {
            "colorbar": {
             "outlinewidth": 0,
             "ticks": ""
            },
            "type": "contourcarpet"
           }
          ],
          "heatmap": [
           {
            "colorbar": {
             "outlinewidth": 0,
             "ticks": ""
            },
            "colorscale": [
             [
              0,
              "#0d0887"
             ],
             [
              0.1111111111111111,
              "#46039f"
             ],
             [
              0.2222222222222222,
              "#7201a8"
             ],
             [
              0.3333333333333333,
              "#9c179e"
             ],
             [
              0.4444444444444444,
              "#bd3786"
             ],
             [
              0.5555555555555556,
              "#d8576b"
             ],
             [
              0.6666666666666666,
              "#ed7953"
             ],
             [
              0.7777777777777778,
              "#fb9f3a"
             ],
             [
              0.8888888888888888,
              "#fdca26"
             ],
             [
              1,
              "#f0f921"
             ]
            ],
            "type": "heatmap"
           }
          ],
          "heatmapgl": [
           {
            "colorbar": {
             "outlinewidth": 0,
             "ticks": ""
            },
            "colorscale": [
             [
              0,
              "#0d0887"
             ],
             [
              0.1111111111111111,
              "#46039f"
             ],
             [
              0.2222222222222222,
              "#7201a8"
             ],
             [
              0.3333333333333333,
              "#9c179e"
             ],
             [
              0.4444444444444444,
              "#bd3786"
             ],
             [
              0.5555555555555556,
              "#d8576b"
             ],
             [
              0.6666666666666666,
              "#ed7953"
             ],
             [
              0.7777777777777778,
              "#fb9f3a"
             ],
             [
              0.8888888888888888,
              "#fdca26"
             ],
             [
              1,
              "#f0f921"
             ]
            ],
            "type": "heatmapgl"
           }
          ],
          "histogram": [
           {
            "marker": {
             "pattern": {
              "fillmode": "overlay",
              "size": 10,
              "solidity": 0.2
             }
            },
            "type": "histogram"
           }
          ],
          "histogram2d": [
           {
            "colorbar": {
             "outlinewidth": 0,
             "ticks": ""
            },
            "colorscale": [
             [
              0,
              "#0d0887"
             ],
             [
              0.1111111111111111,
              "#46039f"
             ],
             [
              0.2222222222222222,
              "#7201a8"
             ],
             [
              0.3333333333333333,
              "#9c179e"
             ],
             [
              0.4444444444444444,
              "#bd3786"
             ],
             [
              0.5555555555555556,
              "#d8576b"
             ],
             [
              0.6666666666666666,
              "#ed7953"
             ],
             [
              0.7777777777777778,
              "#fb9f3a"
             ],
             [
              0.8888888888888888,
              "#fdca26"
             ],
             [
              1,
              "#f0f921"
             ]
            ],
            "type": "histogram2d"
           }
          ],
          "histogram2dcontour": [
           {
            "colorbar": {
             "outlinewidth": 0,
             "ticks": ""
            },
            "colorscale": [
             [
              0,
              "#0d0887"
             ],
             [
              0.1111111111111111,
              "#46039f"
             ],
             [
              0.2222222222222222,
              "#7201a8"
             ],
             [
              0.3333333333333333,
              "#9c179e"
             ],
             [
              0.4444444444444444,
              "#bd3786"
             ],
             [
              0.5555555555555556,
              "#d8576b"
             ],
             [
              0.6666666666666666,
              "#ed7953"
             ],
             [
              0.7777777777777778,
              "#fb9f3a"
             ],
             [
              0.8888888888888888,
              "#fdca26"
             ],
             [
              1,
              "#f0f921"
             ]
            ],
            "type": "histogram2dcontour"
           }
          ],
          "mesh3d": [
           {
            "colorbar": {
             "outlinewidth": 0,
             "ticks": ""
            },
            "type": "mesh3d"
           }
          ],
          "parcoords": [
           {
            "line": {
             "colorbar": {
              "outlinewidth": 0,
              "ticks": ""
             }
            },
            "type": "parcoords"
           }
          ],
          "pie": [
           {
            "automargin": true,
            "type": "pie"
           }
          ],
          "scatter": [
           {
            "fillpattern": {
             "fillmode": "overlay",
             "size": 10,
             "solidity": 0.2
            },
            "type": "scatter"
           }
          ],
          "scatter3d": [
           {
            "line": {
             "colorbar": {
              "outlinewidth": 0,
              "ticks": ""
             }
            },
            "marker": {
             "colorbar": {
              "outlinewidth": 0,
              "ticks": ""
             }
            },
            "type": "scatter3d"
           }
          ],
          "scattercarpet": [
           {
            "marker": {
             "colorbar": {
              "outlinewidth": 0,
              "ticks": ""
             }
            },
            "type": "scattercarpet"
           }
          ],
          "scattergeo": [
           {
            "marker": {
             "colorbar": {
              "outlinewidth": 0,
              "ticks": ""
             }
            },
            "type": "scattergeo"
           }
          ],
          "scattergl": [
           {
            "marker": {
             "colorbar": {
              "outlinewidth": 0,
              "ticks": ""
             }
            },
            "type": "scattergl"
           }
          ],
          "scattermapbox": [
           {
            "marker": {
             "colorbar": {
              "outlinewidth": 0,
              "ticks": ""
             }
            },
            "type": "scattermapbox"
           }
          ],
          "scatterpolar": [
           {
            "marker": {
             "colorbar": {
              "outlinewidth": 0,
              "ticks": ""
             }
            },
            "type": "scatterpolar"
           }
          ],
          "scatterpolargl": [
           {
            "marker": {
             "colorbar": {
              "outlinewidth": 0,
              "ticks": ""
             }
            },
            "type": "scatterpolargl"
           }
          ],
          "scatterternary": [
           {
            "marker": {
             "colorbar": {
              "outlinewidth": 0,
              "ticks": ""
             }
            },
            "type": "scatterternary"
           }
          ],
          "surface": [
           {
            "colorbar": {
             "outlinewidth": 0,
             "ticks": ""
            },
            "colorscale": [
             [
              0,
              "#0d0887"
             ],
             [
              0.1111111111111111,
              "#46039f"
             ],
             [
              0.2222222222222222,
              "#7201a8"
             ],
             [
              0.3333333333333333,
              "#9c179e"
             ],
             [
              0.4444444444444444,
              "#bd3786"
             ],
             [
              0.5555555555555556,
              "#d8576b"
             ],
             [
              0.6666666666666666,
              "#ed7953"
             ],
             [
              0.7777777777777778,
              "#fb9f3a"
             ],
             [
              0.8888888888888888,
              "#fdca26"
             ],
             [
              1,
              "#f0f921"
             ]
            ],
            "type": "surface"
           }
          ],
          "table": [
           {
            "cells": {
             "fill": {
              "color": "#EBF0F8"
             },
             "line": {
              "color": "white"
             }
            },
            "header": {
             "fill": {
              "color": "#C8D4E3"
             },
             "line": {
              "color": "white"
             }
            },
            "type": "table"
           }
          ]
         },
         "layout": {
          "annotationdefaults": {
           "arrowcolor": "#2a3f5f",
           "arrowhead": 0,
           "arrowwidth": 1
          },
          "autotypenumbers": "strict",
          "coloraxis": {
           "colorbar": {
            "outlinewidth": 0,
            "ticks": ""
           }
          },
          "colorscale": {
           "diverging": [
            [
             0,
             "#8e0152"
            ],
            [
             0.1,
             "#c51b7d"
            ],
            [
             0.2,
             "#de77ae"
            ],
            [
             0.3,
             "#f1b6da"
            ],
            [
             0.4,
             "#fde0ef"
            ],
            [
             0.5,
             "#f7f7f7"
            ],
            [
             0.6,
             "#e6f5d0"
            ],
            [
             0.7,
             "#b8e186"
            ],
            [
             0.8,
             "#7fbc41"
            ],
            [
             0.9,
             "#4d9221"
            ],
            [
             1,
             "#276419"
            ]
           ],
           "sequential": [
            [
             0,
             "#0d0887"
            ],
            [
             0.1111111111111111,
             "#46039f"
            ],
            [
             0.2222222222222222,
             "#7201a8"
            ],
            [
             0.3333333333333333,
             "#9c179e"
            ],
            [
             0.4444444444444444,
             "#bd3786"
            ],
            [
             0.5555555555555556,
             "#d8576b"
            ],
            [
             0.6666666666666666,
             "#ed7953"
            ],
            [
             0.7777777777777778,
             "#fb9f3a"
            ],
            [
             0.8888888888888888,
             "#fdca26"
            ],
            [
             1,
             "#f0f921"
            ]
           ],
           "sequentialminus": [
            [
             0,
             "#0d0887"
            ],
            [
             0.1111111111111111,
             "#46039f"
            ],
            [
             0.2222222222222222,
             "#7201a8"
            ],
            [
             0.3333333333333333,
             "#9c179e"
            ],
            [
             0.4444444444444444,
             "#bd3786"
            ],
            [
             0.5555555555555556,
             "#d8576b"
            ],
            [
             0.6666666666666666,
             "#ed7953"
            ],
            [
             0.7777777777777778,
             "#fb9f3a"
            ],
            [
             0.8888888888888888,
             "#fdca26"
            ],
            [
             1,
             "#f0f921"
            ]
           ]
          },
          "colorway": [
           "#636efa",
           "#EF553B",
           "#00cc96",
           "#ab63fa",
           "#FFA15A",
           "#19d3f3",
           "#FF6692",
           "#B6E880",
           "#FF97FF",
           "#FECB52"
          ],
          "font": {
           "color": "#2a3f5f"
          },
          "geo": {
           "bgcolor": "white",
           "lakecolor": "white",
           "landcolor": "#E5ECF6",
           "showlakes": true,
           "showland": true,
           "subunitcolor": "white"
          },
          "hoverlabel": {
           "align": "left"
          },
          "hovermode": "closest",
          "mapbox": {
           "style": "light"
          },
          "paper_bgcolor": "white",
          "plot_bgcolor": "#E5ECF6",
          "polar": {
           "angularaxis": {
            "gridcolor": "white",
            "linecolor": "white",
            "ticks": ""
           },
           "bgcolor": "#E5ECF6",
           "radialaxis": {
            "gridcolor": "white",
            "linecolor": "white",
            "ticks": ""
           }
          },
          "scene": {
           "xaxis": {
            "backgroundcolor": "#E5ECF6",
            "gridcolor": "white",
            "gridwidth": 2,
            "linecolor": "white",
            "showbackground": true,
            "ticks": "",
            "zerolinecolor": "white"
           },
           "yaxis": {
            "backgroundcolor": "#E5ECF6",
            "gridcolor": "white",
            "gridwidth": 2,
            "linecolor": "white",
            "showbackground": true,
            "ticks": "",
            "zerolinecolor": "white"
           },
           "zaxis": {
            "backgroundcolor": "#E5ECF6",
            "gridcolor": "white",
            "gridwidth": 2,
            "linecolor": "white",
            "showbackground": true,
            "ticks": "",
            "zerolinecolor": "white"
           }
          },
          "shapedefaults": {
           "line": {
            "color": "#2a3f5f"
           }
          },
          "ternary": {
           "aaxis": {
            "gridcolor": "white",
            "linecolor": "white",
            "ticks": ""
           },
           "baxis": {
            "gridcolor": "white",
            "linecolor": "white",
            "ticks": ""
           },
           "bgcolor": "#E5ECF6",
           "caxis": {
            "gridcolor": "white",
            "linecolor": "white",
            "ticks": ""
           }
          },
          "title": {
           "x": 0.05
          },
          "xaxis": {
           "automargin": true,
           "gridcolor": "white",
           "linecolor": "white",
           "ticks": "",
           "title": {
            "standoff": 15
           },
           "zerolinecolor": "white",
           "zerolinewidth": 2
          },
          "yaxis": {
           "automargin": true,
           "gridcolor": "white",
           "linecolor": "white",
           "ticks": "",
           "title": {
            "standoff": 15
           },
           "zerolinecolor": "white",
           "zerolinewidth": 2
          }
         }
        },
        "title": {
         "font": {
          "size": 20
         },
         "text": "Precio medio de venta de vehículos de segunda mano en España según la marca: los más baratos"
        },
        "xaxis": {
         "anchor": "y",
         "domain": [
          0,
          1
         ],
         "tickangle": 45,
         "tickfont": {
          "size": 12
         },
         "title": {
          "font": {
           "size": 16
          },
          "text": "Marca"
         }
        },
        "yaxis": {
         "anchor": "x",
         "domain": [
          0,
          1
         ],
         "tickfont": {
          "size": 12
         },
         "title": {
          "font": {
           "size": 16
          },
          "text": "Precio Medio (€)"
         }
        }
       }
      }
     },
     "metadata": {},
     "output_type": "display_data"
    },
    {
     "data": {
      "application/vnd.plotly.v1+json": {
       "config": {
        "plotlyServerURL": "https://plot.ly"
       },
       "data": [
        {
         "alignmentgroup": "True",
         "hovertemplate": "Marca=%{x}<br>Precio Medio (€)=%{marker.color}<extra></extra>",
         "legendgroup": "",
         "marker": {
          "color": [
           252112.375,
           163291.29032258064,
           134285.72,
           89578.66666666667,
           66000,
           61658.60154738878,
           57325.854838709674,
           53672.95652173913,
           43830,
           37737.933333333334,
           33728.49243697479,
           29850,
           29172.428571428572,
           29000,
           28224.75,
           26771.14749262537,
           24930.544,
           24421.625,
           24262.221197066476,
           24058.68439716312,
           23149.30100334448,
           21005.61482381531,
           20347.24358974359,
           20290,
           20040.262626262625,
           19121.802403204274,
           19098.333333333332,
           18822.743458980043,
           16990,
           16044.545454545454,
           14782.145499383478,
           14757.984794275491,
           14304.854166666666,
           13933.942857142858,
           13868.205018359853,
           13815.427152317881,
           13437.27502175805,
           13140.105103806229
          ],
          "coloraxis": "coloraxis",
          "pattern": {
           "shape": ""
          }
         },
         "name": "",
         "offsetgroup": "",
         "orientation": "v",
         "showlegend": false,
         "text": [
          252112.375,
          163291.29032258064,
          134285.72,
          89578.66666666667,
          66000,
          61658.60154738878,
          57325.854838709674,
          53672.95652173913,
          43830,
          37737.933333333334,
          33728.49243697479,
          29850,
          29172.428571428572,
          29000,
          28224.75,
          26771.14749262537,
          24930.544,
          24421.625,
          24262.221197066476,
          24058.68439716312,
          23149.30100334448,
          21005.61482381531,
          20347.24358974359,
          20290,
          20040.262626262625,
          19121.802403204274,
          19098.333333333332,
          18822.743458980043,
          16990,
          16044.545454545454,
          14782.145499383478,
          14757.984794275491,
          14304.854166666666,
          13933.942857142858,
          13868.205018359853,
          13815.427152317881,
          13437.27502175805,
          13140.105103806229
         ],
         "textposition": "outside",
         "texttemplate": "%{text:.2f} €",
         "type": "bar",
         "x": [
          "LAMBORGHINI",
          "FERRARI",
          "BENTLEY",
          "ASTON MARTIN",
          "ALPINE",
          "PORSCHE",
          "MASERATI",
          "TESLA",
          "CORVETTE",
          "CUPRA",
          "LAND-ROVER",
          "LOTUS",
          "ISUZU",
          "MORGAN",
          "HUMMER",
          "JAGUAR",
          "DS",
          "DFSK",
          "MERCEDES-BENZ",
          "LEXUS",
          "JEEP",
          "VOLVO",
          "INFINITI",
          "MAXUS",
          "SUBARU",
          "AUDI",
          "ABARTH",
          "BMW",
          "DR AUTOMOBILES",
          "MAHINDRA",
          "MINI",
          "KIA",
          "IVECO",
          "MAZDA",
          "NISSAN",
          "ALFA ROMEO",
          "HYUNDAI",
          "VOLKSWAGEN"
         ],
         "xaxis": "x",
         "y": [
          252112.375,
          163291.29032258064,
          134285.72,
          89578.66666666667,
          66000,
          61658.60154738878,
          57325.854838709674,
          53672.95652173913,
          43830,
          37737.933333333334,
          33728.49243697479,
          29850,
          29172.428571428572,
          29000,
          28224.75,
          26771.14749262537,
          24930.544,
          24421.625,
          24262.221197066476,
          24058.68439716312,
          23149.30100334448,
          21005.61482381531,
          20347.24358974359,
          20290,
          20040.262626262625,
          19121.802403204274,
          19098.333333333332,
          18822.743458980043,
          16990,
          16044.545454545454,
          14782.145499383478,
          14757.984794275491,
          14304.854166666666,
          13933.942857142858,
          13868.205018359853,
          13815.427152317881,
          13437.27502175805,
          13140.105103806229
         ],
         "yaxis": "y"
        }
       ],
       "layout": {
        "barmode": "relative",
        "coloraxis": {
         "colorbar": {
          "title": {
           "text": "Precio Medio (€)"
          }
         },
         "colorscale": [
          [
           0,
           "rgb(247,251,255)"
          ],
          [
           0.125,
           "rgb(222,235,247)"
          ],
          [
           0.25,
           "rgb(198,219,239)"
          ],
          [
           0.375,
           "rgb(158,202,225)"
          ],
          [
           0.5,
           "rgb(107,174,214)"
          ],
          [
           0.625,
           "rgb(66,146,198)"
          ],
          [
           0.75,
           "rgb(33,113,181)"
          ],
          [
           0.875,
           "rgb(8,81,156)"
          ],
          [
           1,
           "rgb(8,48,107)"
          ]
         ],
         "showscale": false
        },
        "legend": {
         "tracegroupgap": 0
        },
        "margin": {
         "b": 120,
         "t": 50
        },
        "paper_bgcolor": "rgba(255,255,255,1)",
        "plot_bgcolor": "rgba(0,0,0,0)",
        "template": {
         "data": {
          "bar": [
           {
            "error_x": {
             "color": "#2a3f5f"
            },
            "error_y": {
             "color": "#2a3f5f"
            },
            "marker": {
             "line": {
              "color": "#E5ECF6",
              "width": 0.5
             },
             "pattern": {
              "fillmode": "overlay",
              "size": 10,
              "solidity": 0.2
             }
            },
            "type": "bar"
           }
          ],
          "barpolar": [
           {
            "marker": {
             "line": {
              "color": "#E5ECF6",
              "width": 0.5
             },
             "pattern": {
              "fillmode": "overlay",
              "size": 10,
              "solidity": 0.2
             }
            },
            "type": "barpolar"
           }
          ],
          "carpet": [
           {
            "aaxis": {
             "endlinecolor": "#2a3f5f",
             "gridcolor": "white",
             "linecolor": "white",
             "minorgridcolor": "white",
             "startlinecolor": "#2a3f5f"
            },
            "baxis": {
             "endlinecolor": "#2a3f5f",
             "gridcolor": "white",
             "linecolor": "white",
             "minorgridcolor": "white",
             "startlinecolor": "#2a3f5f"
            },
            "type": "carpet"
           }
          ],
          "choropleth": [
           {
            "colorbar": {
             "outlinewidth": 0,
             "ticks": ""
            },
            "type": "choropleth"
           }
          ],
          "contour": [
           {
            "colorbar": {
             "outlinewidth": 0,
             "ticks": ""
            },
            "colorscale": [
             [
              0,
              "#0d0887"
             ],
             [
              0.1111111111111111,
              "#46039f"
             ],
             [
              0.2222222222222222,
              "#7201a8"
             ],
             [
              0.3333333333333333,
              "#9c179e"
             ],
             [
              0.4444444444444444,
              "#bd3786"
             ],
             [
              0.5555555555555556,
              "#d8576b"
             ],
             [
              0.6666666666666666,
              "#ed7953"
             ],
             [
              0.7777777777777778,
              "#fb9f3a"
             ],
             [
              0.8888888888888888,
              "#fdca26"
             ],
             [
              1,
              "#f0f921"
             ]
            ],
            "type": "contour"
           }
          ],
          "contourcarpet": [
           {
            "colorbar": {
             "outlinewidth": 0,
             "ticks": ""
            },
            "type": "contourcarpet"
           }
          ],
          "heatmap": [
           {
            "colorbar": {
             "outlinewidth": 0,
             "ticks": ""
            },
            "colorscale": [
             [
              0,
              "#0d0887"
             ],
             [
              0.1111111111111111,
              "#46039f"
             ],
             [
              0.2222222222222222,
              "#7201a8"
             ],
             [
              0.3333333333333333,
              "#9c179e"
             ],
             [
              0.4444444444444444,
              "#bd3786"
             ],
             [
              0.5555555555555556,
              "#d8576b"
             ],
             [
              0.6666666666666666,
              "#ed7953"
             ],
             [
              0.7777777777777778,
              "#fb9f3a"
             ],
             [
              0.8888888888888888,
              "#fdca26"
             ],
             [
              1,
              "#f0f921"
             ]
            ],
            "type": "heatmap"
           }
          ],
          "heatmapgl": [
           {
            "colorbar": {
             "outlinewidth": 0,
             "ticks": ""
            },
            "colorscale": [
             [
              0,
              "#0d0887"
             ],
             [
              0.1111111111111111,
              "#46039f"
             ],
             [
              0.2222222222222222,
              "#7201a8"
             ],
             [
              0.3333333333333333,
              "#9c179e"
             ],
             [
              0.4444444444444444,
              "#bd3786"
             ],
             [
              0.5555555555555556,
              "#d8576b"
             ],
             [
              0.6666666666666666,
              "#ed7953"
             ],
             [
              0.7777777777777778,
              "#fb9f3a"
             ],
             [
              0.8888888888888888,
              "#fdca26"
             ],
             [
              1,
              "#f0f921"
             ]
            ],
            "type": "heatmapgl"
           }
          ],
          "histogram": [
           {
            "marker": {
             "pattern": {
              "fillmode": "overlay",
              "size": 10,
              "solidity": 0.2
             }
            },
            "type": "histogram"
           }
          ],
          "histogram2d": [
           {
            "colorbar": {
             "outlinewidth": 0,
             "ticks": ""
            },
            "colorscale": [
             [
              0,
              "#0d0887"
             ],
             [
              0.1111111111111111,
              "#46039f"
             ],
             [
              0.2222222222222222,
              "#7201a8"
             ],
             [
              0.3333333333333333,
              "#9c179e"
             ],
             [
              0.4444444444444444,
              "#bd3786"
             ],
             [
              0.5555555555555556,
              "#d8576b"
             ],
             [
              0.6666666666666666,
              "#ed7953"
             ],
             [
              0.7777777777777778,
              "#fb9f3a"
             ],
             [
              0.8888888888888888,
              "#fdca26"
             ],
             [
              1,
              "#f0f921"
             ]
            ],
            "type": "histogram2d"
           }
          ],
          "histogram2dcontour": [
           {
            "colorbar": {
             "outlinewidth": 0,
             "ticks": ""
            },
            "colorscale": [
             [
              0,
              "#0d0887"
             ],
             [
              0.1111111111111111,
              "#46039f"
             ],
             [
              0.2222222222222222,
              "#7201a8"
             ],
             [
              0.3333333333333333,
              "#9c179e"
             ],
             [
              0.4444444444444444,
              "#bd3786"
             ],
             [
              0.5555555555555556,
              "#d8576b"
             ],
             [
              0.6666666666666666,
              "#ed7953"
             ],
             [
              0.7777777777777778,
              "#fb9f3a"
             ],
             [
              0.8888888888888888,
              "#fdca26"
             ],
             [
              1,
              "#f0f921"
             ]
            ],
            "type": "histogram2dcontour"
           }
          ],
          "mesh3d": [
           {
            "colorbar": {
             "outlinewidth": 0,
             "ticks": ""
            },
            "type": "mesh3d"
           }
          ],
          "parcoords": [
           {
            "line": {
             "colorbar": {
              "outlinewidth": 0,
              "ticks": ""
             }
            },
            "type": "parcoords"
           }
          ],
          "pie": [
           {
            "automargin": true,
            "type": "pie"
           }
          ],
          "scatter": [
           {
            "fillpattern": {
             "fillmode": "overlay",
             "size": 10,
             "solidity": 0.2
            },
            "type": "scatter"
           }
          ],
          "scatter3d": [
           {
            "line": {
             "colorbar": {
              "outlinewidth": 0,
              "ticks": ""
             }
            },
            "marker": {
             "colorbar": {
              "outlinewidth": 0,
              "ticks": ""
             }
            },
            "type": "scatter3d"
           }
          ],
          "scattercarpet": [
           {
            "marker": {
             "colorbar": {
              "outlinewidth": 0,
              "ticks": ""
             }
            },
            "type": "scattercarpet"
           }
          ],
          "scattergeo": [
           {
            "marker": {
             "colorbar": {
              "outlinewidth": 0,
              "ticks": ""
             }
            },
            "type": "scattergeo"
           }
          ],
          "scattergl": [
           {
            "marker": {
             "colorbar": {
              "outlinewidth": 0,
              "ticks": ""
             }
            },
            "type": "scattergl"
           }
          ],
          "scattermapbox": [
           {
            "marker": {
             "colorbar": {
              "outlinewidth": 0,
              "ticks": ""
             }
            },
            "type": "scattermapbox"
           }
          ],
          "scatterpolar": [
           {
            "marker": {
             "colorbar": {
              "outlinewidth": 0,
              "ticks": ""
             }
            },
            "type": "scatterpolar"
           }
          ],
          "scatterpolargl": [
           {
            "marker": {
             "colorbar": {
              "outlinewidth": 0,
              "ticks": ""
             }
            },
            "type": "scatterpolargl"
           }
          ],
          "scatterternary": [
           {
            "marker": {
             "colorbar": {
              "outlinewidth": 0,
              "ticks": ""
             }
            },
            "type": "scatterternary"
           }
          ],
          "surface": [
           {
            "colorbar": {
             "outlinewidth": 0,
             "ticks": ""
            },
            "colorscale": [
             [
              0,
              "#0d0887"
             ],
             [
              0.1111111111111111,
              "#46039f"
             ],
             [
              0.2222222222222222,
              "#7201a8"
             ],
             [
              0.3333333333333333,
              "#9c179e"
             ],
             [
              0.4444444444444444,
              "#bd3786"
             ],
             [
              0.5555555555555556,
              "#d8576b"
             ],
             [
              0.6666666666666666,
              "#ed7953"
             ],
             [
              0.7777777777777778,
              "#fb9f3a"
             ],
             [
              0.8888888888888888,
              "#fdca26"
             ],
             [
              1,
              "#f0f921"
             ]
            ],
            "type": "surface"
           }
          ],
          "table": [
           {
            "cells": {
             "fill": {
              "color": "#EBF0F8"
             },
             "line": {
              "color": "white"
             }
            },
            "header": {
             "fill": {
              "color": "#C8D4E3"
             },
             "line": {
              "color": "white"
             }
            },
            "type": "table"
           }
          ]
         },
         "layout": {
          "annotationdefaults": {
           "arrowcolor": "#2a3f5f",
           "arrowhead": 0,
           "arrowwidth": 1
          },
          "autotypenumbers": "strict",
          "coloraxis": {
           "colorbar": {
            "outlinewidth": 0,
            "ticks": ""
           }
          },
          "colorscale": {
           "diverging": [
            [
             0,
             "#8e0152"
            ],
            [
             0.1,
             "#c51b7d"
            ],
            [
             0.2,
             "#de77ae"
            ],
            [
             0.3,
             "#f1b6da"
            ],
            [
             0.4,
             "#fde0ef"
            ],
            [
             0.5,
             "#f7f7f7"
            ],
            [
             0.6,
             "#e6f5d0"
            ],
            [
             0.7,
             "#b8e186"
            ],
            [
             0.8,
             "#7fbc41"
            ],
            [
             0.9,
             "#4d9221"
            ],
            [
             1,
             "#276419"
            ]
           ],
           "sequential": [
            [
             0,
             "#0d0887"
            ],
            [
             0.1111111111111111,
             "#46039f"
            ],
            [
             0.2222222222222222,
             "#7201a8"
            ],
            [
             0.3333333333333333,
             "#9c179e"
            ],
            [
             0.4444444444444444,
             "#bd3786"
            ],
            [
             0.5555555555555556,
             "#d8576b"
            ],
            [
             0.6666666666666666,
             "#ed7953"
            ],
            [
             0.7777777777777778,
             "#fb9f3a"
            ],
            [
             0.8888888888888888,
             "#fdca26"
            ],
            [
             1,
             "#f0f921"
            ]
           ],
           "sequentialminus": [
            [
             0,
             "#0d0887"
            ],
            [
             0.1111111111111111,
             "#46039f"
            ],
            [
             0.2222222222222222,
             "#7201a8"
            ],
            [
             0.3333333333333333,
             "#9c179e"
            ],
            [
             0.4444444444444444,
             "#bd3786"
            ],
            [
             0.5555555555555556,
             "#d8576b"
            ],
            [
             0.6666666666666666,
             "#ed7953"
            ],
            [
             0.7777777777777778,
             "#fb9f3a"
            ],
            [
             0.8888888888888888,
             "#fdca26"
            ],
            [
             1,
             "#f0f921"
            ]
           ]
          },
          "colorway": [
           "#636efa",
           "#EF553B",
           "#00cc96",
           "#ab63fa",
           "#FFA15A",
           "#19d3f3",
           "#FF6692",
           "#B6E880",
           "#FF97FF",
           "#FECB52"
          ],
          "font": {
           "color": "#2a3f5f"
          },
          "geo": {
           "bgcolor": "white",
           "lakecolor": "white",
           "landcolor": "#E5ECF6",
           "showlakes": true,
           "showland": true,
           "subunitcolor": "white"
          },
          "hoverlabel": {
           "align": "left"
          },
          "hovermode": "closest",
          "mapbox": {
           "style": "light"
          },
          "paper_bgcolor": "white",
          "plot_bgcolor": "#E5ECF6",
          "polar": {
           "angularaxis": {
            "gridcolor": "white",
            "linecolor": "white",
            "ticks": ""
           },
           "bgcolor": "#E5ECF6",
           "radialaxis": {
            "gridcolor": "white",
            "linecolor": "white",
            "ticks": ""
           }
          },
          "scene": {
           "xaxis": {
            "backgroundcolor": "#E5ECF6",
            "gridcolor": "white",
            "gridwidth": 2,
            "linecolor": "white",
            "showbackground": true,
            "ticks": "",
            "zerolinecolor": "white"
           },
           "yaxis": {
            "backgroundcolor": "#E5ECF6",
            "gridcolor": "white",
            "gridwidth": 2,
            "linecolor": "white",
            "showbackground": true,
            "ticks": "",
            "zerolinecolor": "white"
           },
           "zaxis": {
            "backgroundcolor": "#E5ECF6",
            "gridcolor": "white",
            "gridwidth": 2,
            "linecolor": "white",
            "showbackground": true,
            "ticks": "",
            "zerolinecolor": "white"
           }
          },
          "shapedefaults": {
           "line": {
            "color": "#2a3f5f"
           }
          },
          "ternary": {
           "aaxis": {
            "gridcolor": "white",
            "linecolor": "white",
            "ticks": ""
           },
           "baxis": {
            "gridcolor": "white",
            "linecolor": "white",
            "ticks": ""
           },
           "bgcolor": "#E5ECF6",
           "caxis": {
            "gridcolor": "white",
            "linecolor": "white",
            "ticks": ""
           }
          },
          "title": {
           "x": 0.05
          },
          "xaxis": {
           "automargin": true,
           "gridcolor": "white",
           "linecolor": "white",
           "ticks": "",
           "title": {
            "standoff": 15
           },
           "zerolinecolor": "white",
           "zerolinewidth": 2
          },
          "yaxis": {
           "automargin": true,
           "gridcolor": "white",
           "linecolor": "white",
           "ticks": "",
           "title": {
            "standoff": 15
           },
           "zerolinecolor": "white",
           "zerolinewidth": 2
          }
         }
        },
        "title": {
         "font": {
          "size": 20
         },
         "text": "Precio medio de venta de vehículos de segunda mano en España según la marca: los más caros"
        },
        "xaxis": {
         "anchor": "y",
         "domain": [
          0,
          1
         ],
         "tickangle": 45,
         "tickfont": {
          "size": 12
         },
         "title": {
          "font": {
           "size": 16
          },
          "text": "Marca"
         }
        },
        "yaxis": {
         "anchor": "x",
         "domain": [
          0,
          1
         ],
         "tickfont": {
          "size": 12
         },
         "title": {
          "font": {
           "size": 16
          },
          "text": "Precio Medio (€)"
         }
        }
       }
      }
     },
     "metadata": {},
     "output_type": "display_data"
    }
   ],
   "source": [
    "# Ordenar el DataFrame por 'precio_medio' de mayor a menor\n",
    "df2a_sorted = df2a.sort_values(by='precio_medio', ascending=False)\n",
    "\n",
    "# Crear el gráfico con los datos ordenados\n",
    "fig = px.bar(\n",
    "    df2a_sorted[38:],\n",
    "    x='marca',\n",
    "    y='precio_medio',\n",
    "    title=\"Precio medio de venta de vehículos de segunda mano en España según la marca: los más baratos\",\n",
    "    labels={'marca': 'Marca', 'precio_medio': 'Precio Medio (€)'},\n",
    "    text='precio_medio',  # Mostrar valores en las barras\n",
    "    color='precio_medio',  # Usar un gradiente de color basado en el precio\n",
    "    color_continuous_scale='Blues'  # Escala de color\n",
    ")\n",
    "\n",
    "# Ajustar diseño del gráfico\n",
    "fig.update_traces(texttemplate='%{text:.2f} €', textposition='outside')  # Formato de valores\n",
    "fig.update_layout(\n",
    "    title_font_size=20,\n",
    "    xaxis_title_font_size=16,\n",
    "    yaxis_title_font_size=16,\n",
    "    xaxis_tickangle=45,  # Rotar etiquetas del eje X\n",
    "    xaxis_tickfont_size=12,\n",
    "    yaxis_tickfont_size=12,\n",
    "    coloraxis_showscale=False,  # Ocultar barra de escala de color\n",
    "    plot_bgcolor='rgba(0,0,0,0)',  # Fondo transparente\n",
    "    paper_bgcolor='rgba(255,255,255,1)',  # Fondo blanco\n",
    "    margin=dict(t=50, b=120)  # Ajustar márgenes\n",
    ")\n",
    "\n",
    "# Mostrar el gráfico\n",
    "fig.show()\n",
    "\n",
    "fig = px.bar(\n",
    "    df2a_sorted[:38],\n",
    "    x='marca',\n",
    "    y='precio_medio',\n",
    "    title=\"Precio medio de venta de vehículos de segunda mano en España según la marca: los más caros\",\n",
    "    labels={'marca': 'Marca', 'precio_medio': 'Precio Medio (€)'},\n",
    "    text='precio_medio',  # Mostrar valores en las barras\n",
    "    color='precio_medio',  # Usar un gradiente de color basado en el precio\n",
    "    color_continuous_scale='Blues'  # Escala de color\n",
    ")\n",
    "\n",
    "# Ajustar diseño del gráfico\n",
    "fig.update_traces(texttemplate='%{text:.2f} €', textposition='outside')  # Formato de valores\n",
    "fig.update_layout(\n",
    "    title_font_size=20,\n",
    "    xaxis_title_font_size=16,\n",
    "    yaxis_title_font_size=16,\n",
    "    xaxis_tickangle=45,  # Rotar etiquetas del eje X\n",
    "    xaxis_tickfont_size=12,\n",
    "    yaxis_tickfont_size=12,\n",
    "    coloraxis_showscale=False,  # Ocultar barra de escala de color\n",
    "    plot_bgcolor='rgba(0,0,0,0)',  # Fondo transparente\n",
    "    paper_bgcolor='rgba(255,255,255,1)',  # Fondo blanco\n",
    "    margin=dict(t=50, b=120)  # Ajustar márgenes\n",
    ")\n",
    "\n",
    "# Mostrar el gráfico\n",
    "fig.show()"
   ]
  },
  {
   "cell_type": "markdown",
   "metadata": {},
   "source": [
    "## Provincias Líderes en Adopción de Vehículos Eléctricos"
   ]
  },
  {
   "cell_type": "markdown",
   "metadata": {},
   "source": [
    "Se considera igualmente importante para el análisis conocer el porcentaje de vehículos eléctricos en comparación con el total de vehículos vendidos por provincia. Esto permitirá identificar las provincias que están mostrando una mayor adopción de la compra de coches eléctricos de segunda mano."
   ]
  },
  {
   "cell_type": "code",
   "execution_count": 15,
   "metadata": {},
   "outputs": [
    {
     "data": {
      "text/html": [
       "<div>\n",
       "<style scoped>\n",
       "    .dataframe tbody tr th:only-of-type {\n",
       "        vertical-align: middle;\n",
       "    }\n",
       "\n",
       "    .dataframe tbody tr th {\n",
       "        vertical-align: top;\n",
       "    }\n",
       "\n",
       "    .dataframe thead th {\n",
       "        text-align: right;\n",
       "    }\n",
       "</style>\n",
       "<table border=\"1\" class=\"dataframe\">\n",
       "  <thead>\n",
       "    <tr style=\"text-align: right;\">\n",
       "      <th></th>\n",
       "      <th>make</th>\n",
       "      <th>model</th>\n",
       "      <th>version</th>\n",
       "      <th>price</th>\n",
       "      <th>price_financed</th>\n",
       "      <th>fuel</th>\n",
       "      <th>year</th>\n",
       "      <th>kms</th>\n",
       "      <th>power</th>\n",
       "      <th>doors</th>\n",
       "      <th>shift</th>\n",
       "      <th>color</th>\n",
       "      <th>photos</th>\n",
       "      <th>is_professional</th>\n",
       "      <th>dealer</th>\n",
       "      <th>province</th>\n",
       "      <th>publish_date</th>\n",
       "      <th>insert_date</th>\n",
       "    </tr>\n",
       "  </thead>\n",
       "  <tbody>\n",
       "    <tr>\n",
       "      <th>73</th>\n",
       "      <td>BMW</td>\n",
       "      <td>i3</td>\n",
       "      <td>BMW i3  5p.</td>\n",
       "      <td>15500</td>\n",
       "      <td>12900.0</td>\n",
       "      <td>Eléctrico</td>\n",
       "      <td>2016.0</td>\n",
       "      <td>49000</td>\n",
       "      <td>170.0</td>\n",
       "      <td>5</td>\n",
       "      <td>Automático</td>\n",
       "      <td>Blanco (blanco-negro)</td>\n",
       "      <td>28</td>\n",
       "      <td>True</td>\n",
       "      <td>AUTOMOVILES YUMACAR S.L</td>\n",
       "      <td>Madrid</td>\n",
       "      <td>2020-12-20 19:37:42</td>\n",
       "      <td>2021-01-15 00:00:00</td>\n",
       "    </tr>\n",
       "    <tr>\n",
       "      <th>117</th>\n",
       "      <td>SMART</td>\n",
       "      <td>fortwo</td>\n",
       "      <td>SMART fortwo 60kW81CV EQ coupe 3p.</td>\n",
       "      <td>14500</td>\n",
       "      <td>14500.0</td>\n",
       "      <td>Eléctrico</td>\n",
       "      <td>2019.0</td>\n",
       "      <td>2000</td>\n",
       "      <td>82.0</td>\n",
       "      <td>3</td>\n",
       "      <td>Automático</td>\n",
       "      <td>Rojo</td>\n",
       "      <td>21</td>\n",
       "      <td>True</td>\n",
       "      <td>Automoviles 10 - Especialistas en Smart</td>\n",
       "      <td>Madrid</td>\n",
       "      <td>2020-12-30 05:23:08</td>\n",
       "      <td>2021-01-15 00:00:00</td>\n",
       "    </tr>\n",
       "    <tr>\n",
       "      <th>408</th>\n",
       "      <td>PEUGEOT</td>\n",
       "      <td>Partner</td>\n",
       "      <td>PEUGEOT Partner Furgon Confort Electric L1</td>\n",
       "      <td>23500</td>\n",
       "      <td>18500.0</td>\n",
       "      <td>Eléctrico</td>\n",
       "      <td>2020.0</td>\n",
       "      <td>10</td>\n",
       "      <td>67.0</td>\n",
       "      <td>3</td>\n",
       "      <td>Automático</td>\n",
       "      <td>Blanco</td>\n",
       "      <td>22</td>\n",
       "      <td>True</td>\n",
       "      <td>PSA Retail Orense</td>\n",
       "      <td>Orense</td>\n",
       "      <td>2021-01-14 16:56:46</td>\n",
       "      <td>2021-01-15 00:00:00</td>\n",
       "    </tr>\n",
       "    <tr>\n",
       "      <th>532</th>\n",
       "      <td>SMART</td>\n",
       "      <td>fortwo</td>\n",
       "      <td>SMART fortwo 60kW81CV EQ coupe 3p.</td>\n",
       "      <td>26920</td>\n",
       "      <td>25950.0</td>\n",
       "      <td>Eléctrico</td>\n",
       "      <td>2020.0</td>\n",
       "      <td>1</td>\n",
       "      <td>82.0</td>\n",
       "      <td>3</td>\n",
       "      <td>Automático</td>\n",
       "      <td>Negro</td>\n",
       "      <td>21</td>\n",
       "      <td>True</td>\n",
       "      <td>Citycar Sur</td>\n",
       "      <td>Madrid</td>\n",
       "      <td>2020-12-24 17:47:29</td>\n",
       "      <td>2021-01-15 00:00:00</td>\n",
       "    </tr>\n",
       "    <tr>\n",
       "      <th>630</th>\n",
       "      <td>DS</td>\n",
       "      <td>DS 3 Crossback E-Tense</td>\n",
       "      <td>DS DS 3 Crossback ETense 50 kWh Performance Li...</td>\n",
       "      <td>38102</td>\n",
       "      <td>37402.0</td>\n",
       "      <td>Eléctrico</td>\n",
       "      <td>2021.0</td>\n",
       "      <td>1</td>\n",
       "      <td>136.0</td>\n",
       "      <td>5</td>\n",
       "      <td>Automático</td>\n",
       "      <td>Gris / Plata</td>\n",
       "      <td>4</td>\n",
       "      <td>True</td>\n",
       "      <td>MAAS EXCLUSIVAS PONT</td>\n",
       "      <td>Barcelona</td>\n",
       "      <td>2021-01-14 12:25:00</td>\n",
       "      <td>2021-01-15 00:00:00</td>\n",
       "    </tr>\n",
       "  </tbody>\n",
       "</table>\n",
       "</div>"
      ],
      "text/plain": [
       "        make                   model  \\\n",
       "73       BMW                      i3   \n",
       "117    SMART                  fortwo   \n",
       "408  PEUGEOT                 Partner   \n",
       "532    SMART                  fortwo   \n",
       "630       DS  DS 3 Crossback E-Tense   \n",
       "\n",
       "                                               version  price  price_financed  \\\n",
       "73                                         BMW i3  5p.  15500         12900.0   \n",
       "117                 SMART fortwo 60kW81CV EQ coupe 3p.  14500         14500.0   \n",
       "408         PEUGEOT Partner Furgon Confort Electric L1  23500         18500.0   \n",
       "532                 SMART fortwo 60kW81CV EQ coupe 3p.  26920         25950.0   \n",
       "630  DS DS 3 Crossback ETense 50 kWh Performance Li...  38102         37402.0   \n",
       "\n",
       "          fuel    year    kms  power  doors       shift  \\\n",
       "73   Eléctrico  2016.0  49000  170.0      5  Automático   \n",
       "117  Eléctrico  2019.0   2000   82.0      3  Automático   \n",
       "408  Eléctrico  2020.0     10   67.0      3  Automático   \n",
       "532  Eléctrico  2020.0      1   82.0      3  Automático   \n",
       "630  Eléctrico  2021.0      1  136.0      5  Automático   \n",
       "\n",
       "                     color  photos  is_professional  \\\n",
       "73   Blanco (blanco-negro)      28             True   \n",
       "117                   Rojo      21             True   \n",
       "408                 Blanco      22             True   \n",
       "532                  Negro      21             True   \n",
       "630           Gris / Plata       4             True   \n",
       "\n",
       "                                      dealer   province         publish_date  \\\n",
       "73                   AUTOMOVILES YUMACAR S.L     Madrid  2020-12-20 19:37:42   \n",
       "117  Automoviles 10 - Especialistas en Smart     Madrid  2020-12-30 05:23:08   \n",
       "408                        PSA Retail Orense     Orense  2021-01-14 16:56:46   \n",
       "532                              Citycar Sur     Madrid  2020-12-24 17:47:29   \n",
       "630                     MAAS EXCLUSIVAS PONT  Barcelona  2021-01-14 12:25:00   \n",
       "\n",
       "             insert_date  \n",
       "73   2021-01-15 00:00:00  \n",
       "117  2021-01-15 00:00:00  \n",
       "408  2021-01-15 00:00:00  \n",
       "532  2021-01-15 00:00:00  \n",
       "630  2021-01-15 00:00:00  "
      ]
     },
     "execution_count": 15,
     "metadata": {},
     "output_type": "execute_result"
    }
   ],
   "source": [
    "# Filtrar los vehículos eléctricos\n",
    "electric_cars = df[df['fuel'] == 'Eléctrico']\n",
    "electric_cars.head()"
   ]
  },
  {
   "cell_type": "code",
   "execution_count": 16,
   "metadata": {},
   "outputs": [
    {
     "data": {
      "text/plain": [
       "province\n",
       "Madrid       9638\n",
       "Barcelona    5856\n",
       "Valencia     3533\n",
       "Sevilla      2552\n",
       "Málaga       2303\n",
       "Name: count, dtype: int64"
      ]
     },
     "execution_count": 16,
     "metadata": {},
     "output_type": "execute_result"
    }
   ],
   "source": [
    "# Calcular el total de vehículos y los eléctricos por provincia\n",
    "total_by_province = df['province'].value_counts()\n",
    "total_by_province.head()"
   ]
  },
  {
   "cell_type": "code",
   "execution_count": 17,
   "metadata": {},
   "outputs": [
    {
     "data": {
      "text/plain": [
       "province\n",
       "Madrid       150\n",
       "Barcelona     72\n",
       "Valencia      33\n",
       "Vizcaya       21\n",
       "Málaga        16\n",
       "Name: count, dtype: int64"
      ]
     },
     "execution_count": 17,
     "metadata": {},
     "output_type": "execute_result"
    }
   ],
   "source": [
    "electric_by_province = electric_cars['province'].value_counts()\n",
    "electric_by_province.head()"
   ]
  },
  {
   "cell_type": "code",
   "execution_count": 18,
   "metadata": {},
   "outputs": [
    {
     "data": {
      "text/html": [
       "<div>\n",
       "<style scoped>\n",
       "    .dataframe tbody tr th:only-of-type {\n",
       "        vertical-align: middle;\n",
       "    }\n",
       "\n",
       "    .dataframe tbody tr th {\n",
       "        vertical-align: top;\n",
       "    }\n",
       "\n",
       "    .dataframe thead th {\n",
       "        text-align: right;\n",
       "    }\n",
       "</style>\n",
       "<table border=\"1\" class=\"dataframe\">\n",
       "  <thead>\n",
       "    <tr style=\"text-align: right;\">\n",
       "      <th></th>\n",
       "      <th>Total Vehicles</th>\n",
       "      <th>Electric Vehicles</th>\n",
       "      <th>Percentage Electric</th>\n",
       "    </tr>\n",
       "    <tr>\n",
       "      <th>province</th>\n",
       "      <th></th>\n",
       "      <th></th>\n",
       "      <th></th>\n",
       "    </tr>\n",
       "  </thead>\n",
       "  <tbody>\n",
       "    <tr>\n",
       "      <th>A Coruña</th>\n",
       "      <td>993</td>\n",
       "      <td>11.0</td>\n",
       "      <td>1.107754</td>\n",
       "    </tr>\n",
       "    <tr>\n",
       "      <th>Albacete</th>\n",
       "      <td>375</td>\n",
       "      <td>3.0</td>\n",
       "      <td>0.800000</td>\n",
       "    </tr>\n",
       "    <tr>\n",
       "      <th>Alicante</th>\n",
       "      <td>2103</td>\n",
       "      <td>13.0</td>\n",
       "      <td>0.618165</td>\n",
       "    </tr>\n",
       "    <tr>\n",
       "      <th>Almería</th>\n",
       "      <td>481</td>\n",
       "      <td>2.0</td>\n",
       "      <td>0.415800</td>\n",
       "    </tr>\n",
       "    <tr>\n",
       "      <th>Asturias</th>\n",
       "      <td>864</td>\n",
       "      <td>14.0</td>\n",
       "      <td>1.620370</td>\n",
       "    </tr>\n",
       "  </tbody>\n",
       "</table>\n",
       "</div>"
      ],
      "text/plain": [
       "          Total Vehicles  Electric Vehicles  Percentage Electric\n",
       "province                                                        \n",
       "A Coruña             993               11.0             1.107754\n",
       "Albacete             375                3.0             0.800000\n",
       "Alicante            2103               13.0             0.618165\n",
       "Almería              481                2.0             0.415800\n",
       "Asturias             864               14.0             1.620370"
      ]
     },
     "execution_count": 18,
     "metadata": {},
     "output_type": "execute_result"
    }
   ],
   "source": [
    "# Crear el DataFrame con los datos procesados\n",
    "province_analysis = pd.DataFrame({\n",
    "    'Total Vehicles': total_by_province,\n",
    "    'Electric Vehicles': electric_by_province,\n",
    "    'Percentage Electric': electric_by_province / total_by_province\n",
    "    \n",
    "})\n",
    "\n",
    "# Rellenar valores faltantes y calcular el porcentaje\n",
    "province_analysis['Electric Vehicles'] = province_analysis['Electric Vehicles'].fillna(0)\n",
    "province_analysis['Percentage Electric'] = (\n",
    "    province_analysis['Electric Vehicles'] / province_analysis['Total Vehicles'] * 100\n",
    ")\n",
    "\n",
    "province_analysis.head()"
   ]
  },
  {
   "cell_type": "code",
   "execution_count": 12,
   "metadata": {},
   "outputs": [
    {
     "data": {
      "text/html": [
       "<div>\n",
       "<style scoped>\n",
       "    .dataframe tbody tr th:only-of-type {\n",
       "        vertical-align: middle;\n",
       "    }\n",
       "\n",
       "    .dataframe tbody tr th {\n",
       "        vertical-align: top;\n",
       "    }\n",
       "\n",
       "    .dataframe thead th {\n",
       "        text-align: right;\n",
       "    }\n",
       "</style>\n",
       "<table border=\"1\" class=\"dataframe\">\n",
       "  <thead>\n",
       "    <tr style=\"text-align: right;\">\n",
       "      <th></th>\n",
       "      <th>Total Vehicles</th>\n",
       "      <th>Electric Vehicles</th>\n",
       "      <th>Percentage Electric</th>\n",
       "    </tr>\n",
       "    <tr>\n",
       "      <th>province</th>\n",
       "      <th></th>\n",
       "      <th></th>\n",
       "      <th></th>\n",
       "    </tr>\n",
       "  </thead>\n",
       "  <tbody>\n",
       "    <tr>\n",
       "      <th>Segovia</th>\n",
       "      <td>120</td>\n",
       "      <td>5.0</td>\n",
       "      <td>4.166667</td>\n",
       "    </tr>\n",
       "    <tr>\n",
       "      <th>Zamora</th>\n",
       "      <td>121</td>\n",
       "      <td>5.0</td>\n",
       "      <td>4.132231</td>\n",
       "    </tr>\n",
       "    <tr>\n",
       "      <th>Álava</th>\n",
       "      <td>409</td>\n",
       "      <td>10.0</td>\n",
       "      <td>2.444988</td>\n",
       "    </tr>\n",
       "    <tr>\n",
       "      <th>Soria</th>\n",
       "      <td>53</td>\n",
       "      <td>1.0</td>\n",
       "      <td>1.886792</td>\n",
       "    </tr>\n",
       "    <tr>\n",
       "      <th>Burgos</th>\n",
       "      <td>487</td>\n",
       "      <td>9.0</td>\n",
       "      <td>1.848049</td>\n",
       "    </tr>\n",
       "    <tr>\n",
       "      <th>Cáceres</th>\n",
       "      <td>326</td>\n",
       "      <td>6.0</td>\n",
       "      <td>1.840491</td>\n",
       "    </tr>\n",
       "    <tr>\n",
       "      <th>Orense</th>\n",
       "      <td>237</td>\n",
       "      <td>4.0</td>\n",
       "      <td>1.687764</td>\n",
       "    </tr>\n",
       "    <tr>\n",
       "      <th>Asturias</th>\n",
       "      <td>864</td>\n",
       "      <td>14.0</td>\n",
       "      <td>1.620370</td>\n",
       "    </tr>\n",
       "    <tr>\n",
       "      <th>Toledo</th>\n",
       "      <td>705</td>\n",
       "      <td>11.0</td>\n",
       "      <td>1.560284</td>\n",
       "    </tr>\n",
       "    <tr>\n",
       "      <th>Madrid</th>\n",
       "      <td>9638</td>\n",
       "      <td>150.0</td>\n",
       "      <td>1.556339</td>\n",
       "    </tr>\n",
       "  </tbody>\n",
       "</table>\n",
       "</div>"
      ],
      "text/plain": [
       "          Total Vehicles  Electric Vehicles  Percentage Electric\n",
       "province                                                        \n",
       "Segovia              120                5.0             4.166667\n",
       "Zamora               121                5.0             4.132231\n",
       "Álava                409               10.0             2.444988\n",
       "Soria                 53                1.0             1.886792\n",
       "Burgos               487                9.0             1.848049\n",
       "Cáceres              326                6.0             1.840491\n",
       "Orense               237                4.0             1.687764\n",
       "Asturias             864               14.0             1.620370\n",
       "Toledo               705               11.0             1.560284\n",
       "Madrid              9638              150.0             1.556339"
      ]
     },
     "execution_count": 12,
     "metadata": {},
     "output_type": "execute_result"
    }
   ],
   "source": [
    "# Top 10 Provincias con mayor Porcentaje de Vehículos Eléctricos \n",
    "top_provinces = province_analysis.sort_values('Percentage Electric', ascending=False).head(10)\n",
    "top_provinces"
   ]
  },
  {
   "cell_type": "code",
   "execution_count": 13,
   "metadata": {},
   "outputs": [
    {
     "data": {
      "image/png": "[encoded data removed]",
      "text/plain": [
       "<Figure size 1000x600 with 1 Axes>"
      ]
     },
     "metadata": {},
     "output_type": "display_data"
    }
   ],
   "source": [
    "# Grafico de Barras\n",
    "plt.figure(figsize=(10, 6))\n",
    "plt.barh(top_provinces.index, top_provinces['Percentage Electric'], color='skyblue')\n",
    "plt.xlabel('Porcentaje de Vehiculos Electricos (%)')\n",
    "plt.ylabel('Provincia')\n",
    "plt.title(' Las 10 Provincias con mayor Porcentaje de Vehículos Eléctricos')\n",
    "plt.gca().invert_yaxis()  # Invert eje y para mejor legibilidad\n",
    "plt.tight_layout()\n",
    "plt.show()"
   ]
  },
  {
   "cell_type": "markdown",
   "metadata": {},
   "source": [
    "Como se puede observar el porcentaje de vehiculos electricos por provincia es sumamente pequeño lo cual estaria indicando que España al menos hasta donde esta recogida la data no tenia una buena adopcion de compra de coches electricos de segunda mano. "
   ]
  },
  {
   "cell_type": "markdown",
   "metadata": {},
   "source": [
    "### Distribución de Vehículos Eléctricos "
   ]
  },
  {
   "cell_type": "markdown",
   "metadata": {},
   "source": [
    "Para complementar lo mencionado anteriormente, es igualmente relevante analizar la distribución de coches eléctricos en las 10 provincias con el mayor porcentaje de vehículos eléctricos de segunda mano comprados."
   ]
  },
  {
   "cell_type": "code",
   "execution_count": 14,
   "metadata": {},
   "outputs": [
    {
     "data": {
      "image/png": "[encoded data removed]",
      "text/plain": [
       "<Figure size 1000x1000 with 1 Axes>"
      ]
     },
     "metadata": {},
     "output_type": "display_data"
    }
   ],
   "source": [
    "# Configuración del tamaño del gráfico para hacerlo más grande y visible\n",
    "plt.figure(figsize=(10, 10))\n",
    "\n",
    "# Crear el gráfico de pastel\n",
    "# 'autopct' muestra el porcentaje en cada porción, 'startangle' rota el gráfico para empezar desde un ángulo específico\n",
    "# 'colors' asigna una paleta de colores predefinida\n",
    "wedges, texts, autotexts = plt.pie(\n",
    "    top_provinces['Electric Vehicles'],\n",
    "    labels=top_provinces.index,\n",
    "    autopct='%1.1f%%',  # Muestra el porcentaje con un decimal\n",
    "    startangle=140,  # Rotar el gráfico para que la primera porción empiece desde el ángulo 140\n",
    "    colors=plt.cm.Set2.colors,  # Se utiliza una paleta de colores más suave y profesional\n",
    "    textprops={'fontsize': 12, 'color': 'black'},  # Ajuste del tamaño y color de las etiquetas\n",
    "    wedgeprops={'edgecolor': 'gray', 'linewidth': 1.5}  # Definir bordes gris claros para cada porción\n",
    ")\n",
    "\n",
    "# Personalización de los textos dentro del gráfico para que sean más visibles\n",
    "for autotext in autotexts:\n",
    "    autotext.set_color('white')  # El texto dentro de las porciones se pone en blanco para mayor contraste\n",
    "    autotext.set_fontweight('bold')  # El texto dentro de las porciones se pone en negrita para resaltar\n",
    "\n",
    "# Título del gráfico con formato más destacado\n",
    "plt.title('Distribución de Vehículos Eléctricos (Top 10 Provincias)', fontsize=16, fontweight='bold', color='darkblue')\n",
    "\n",
    "# Ajuste del diseño para evitar recortes del gráfico\n",
    "plt.tight_layout()\n",
    "\n",
    "# Mostrar el gráfico\n",
    "plt.show()"
   ]
  },
  {
   "cell_type": "markdown",
   "metadata": {},
   "source": [
    "Como se puede observar en el gráfico anterior, Madrid destaca en comparación con el resto por tener el mayor porcentaje basado en la cantidad de coches eléctricos vendidos. Sin embargo, en el apartado anterior se señaló que no era una de las provincias con el mayor porcentaje de vehículos eléctricos en relación con el total de coches por provincia. Ahora queda saber como es la distribución de vehículos eléctricos en las 10 provincias con mayor cantidad de los mismos."
   ]
  },
  {
   "cell_type": "code",
   "execution_count": 19,
   "metadata": {},
   "outputs": [
    {
     "data": {
      "text/html": [
       "<div>\n",
       "<style scoped>\n",
       "    .dataframe tbody tr th:only-of-type {\n",
       "        vertical-align: middle;\n",
       "    }\n",
       "\n",
       "    .dataframe tbody tr th {\n",
       "        vertical-align: top;\n",
       "    }\n",
       "\n",
       "    .dataframe thead th {\n",
       "        text-align: right;\n",
       "    }\n",
       "</style>\n",
       "<table border=\"1\" class=\"dataframe\">\n",
       "  <thead>\n",
       "    <tr style=\"text-align: right;\">\n",
       "      <th></th>\n",
       "      <th>Total Vehicles</th>\n",
       "      <th>Electric Vehicles</th>\n",
       "      <th>Percentage Electric</th>\n",
       "    </tr>\n",
       "    <tr>\n",
       "      <th>province</th>\n",
       "      <th></th>\n",
       "      <th></th>\n",
       "      <th></th>\n",
       "    </tr>\n",
       "  </thead>\n",
       "  <tbody>\n",
       "    <tr>\n",
       "      <th>Madrid</th>\n",
       "      <td>9638</td>\n",
       "      <td>150.0</td>\n",
       "      <td>1.556339</td>\n",
       "    </tr>\n",
       "    <tr>\n",
       "      <th>Barcelona</th>\n",
       "      <td>5856</td>\n",
       "      <td>72.0</td>\n",
       "      <td>1.229508</td>\n",
       "    </tr>\n",
       "    <tr>\n",
       "      <th>Valencia</th>\n",
       "      <td>3533</td>\n",
       "      <td>33.0</td>\n",
       "      <td>0.934050</td>\n",
       "    </tr>\n",
       "    <tr>\n",
       "      <th>Vizcaya</th>\n",
       "      <td>1392</td>\n",
       "      <td>21.0</td>\n",
       "      <td>1.508621</td>\n",
       "    </tr>\n",
       "    <tr>\n",
       "      <th>Málaga</th>\n",
       "      <td>2303</td>\n",
       "      <td>16.0</td>\n",
       "      <td>0.694746</td>\n",
       "    </tr>\n",
       "    <tr>\n",
       "      <th>Murcia</th>\n",
       "      <td>1364</td>\n",
       "      <td>15.0</td>\n",
       "      <td>1.099707</td>\n",
       "    </tr>\n",
       "    <tr>\n",
       "      <th>Sevilla</th>\n",
       "      <td>2552</td>\n",
       "      <td>14.0</td>\n",
       "      <td>0.548589</td>\n",
       "    </tr>\n",
       "    <tr>\n",
       "      <th>Zaragoza</th>\n",
       "      <td>1055</td>\n",
       "      <td>14.0</td>\n",
       "      <td>1.327014</td>\n",
       "    </tr>\n",
       "    <tr>\n",
       "      <th>Asturias</th>\n",
       "      <td>864</td>\n",
       "      <td>14.0</td>\n",
       "      <td>1.620370</td>\n",
       "    </tr>\n",
       "    <tr>\n",
       "      <th>Pontevedra</th>\n",
       "      <td>956</td>\n",
       "      <td>13.0</td>\n",
       "      <td>1.359833</td>\n",
       "    </tr>\n",
       "  </tbody>\n",
       "</table>\n",
       "</div>"
      ],
      "text/plain": [
       "            Total Vehicles  Electric Vehicles  Percentage Electric\n",
       "province                                                          \n",
       "Madrid                9638              150.0             1.556339\n",
       "Barcelona             5856               72.0             1.229508\n",
       "Valencia              3533               33.0             0.934050\n",
       "Vizcaya               1392               21.0             1.508621\n",
       "Málaga                2303               16.0             0.694746\n",
       "Murcia                1364               15.0             1.099707\n",
       "Sevilla               2552               14.0             0.548589\n",
       "Zaragoza              1055               14.0             1.327014\n",
       "Asturias               864               14.0             1.620370\n",
       "Pontevedra             956               13.0             1.359833"
      ]
     },
     "execution_count": 19,
     "metadata": {},
     "output_type": "execute_result"
    }
   ],
   "source": [
    "# Top 10 Provincias con mayor cantidad de Vehículos Eléctricos \n",
    "top_provinces2 = province_analysis.sort_values('Electric Vehicles', ascending=False).head(10)\n",
    "top_provinces2"
   ]
  },
  {
   "cell_type": "markdown",
   "metadata": {},
   "source": [
    "Como se puede observar en la tabla anterior los que tienen mayor cantidad de Vehículos Eléctricos  son las provincias de Madrid y Barcelona por mucho. Lo cual se puede observar en el siguiente grafico: "
   ]
  },
  {
   "cell_type": "code",
   "execution_count": 20,
   "metadata": {},
   "outputs": [
    {
     "data": {
      "image/png": "[encoded data removed]",
      "text/plain": [
       "<Figure size 1000x600 with 1 Axes>"
      ]
     },
     "metadata": {},
     "output_type": "display_data"
    }
   ],
   "source": [
    "# Grafico de Barras\n",
    "plt.figure(figsize=(10, 6))\n",
    "plt.barh(top_provinces2.index, top_provinces2['Electric Vehicles'], color='red')\n",
    "plt.xlabel('Cantidad de Vehiculos Electricos')\n",
    "plt.ylabel('Province')\n",
    "plt.title(' Las 10 Provincias con mayor cantidad de Vehículos Eléctricos')\n",
    "plt.gca().invert_yaxis()  # Invert eje y para mejor legibilidad\n",
    "plt.tight_layout()\n",
    "plt.show()"
   ]
  },
  {
   "cell_type": "markdown",
   "metadata": {},
   "source": [
    "Ahora con esto, surge la pregunta: ¿Cuánto representan las provincias de Madrid y la de Barcelona a la cantidad total de Vehículos Eléctricos  que hay en cada una de las 10 provincias?"
   ]
  },
  {
   "cell_type": "code",
   "execution_count": 21,
   "metadata": {},
   "outputs": [
    {
     "data": {
      "image/png": "[encoded data removed]",
      "text/plain": [
       "<Figure size 1000x1000 with 1 Axes>"
      ]
     },
     "metadata": {},
     "output_type": "display_data"
    }
   ],
   "source": [
    "# Configurar el tamaño del gráfico\n",
    "plt.figure(figsize=(10, 10))\n",
    "\n",
    "# Crear un array para resaltar las porciones más significativas (por ejemplo, la mayor porción)\n",
    "explode = [0.1 if i == top_provinces2['Electric Vehicles'].idxmax() else 0 for i in range(len(top_provinces2))]\n",
    "\n",
    "# Crear el gráfico de pastel\n",
    "wedges, texts, autotexts = plt.pie(\n",
    "    top_provinces2['Electric Vehicles'],\n",
    "    labels=top_provinces2.index,\n",
    "    autopct='%1.1f%%',\n",
    "    startangle=140,\n",
    "    explode=explode,\n",
    "    colors=plt.cm.Set3.colors,  # Paleta de colores atractiva\n",
    "    textprops={'fontsize': 10},  # Tamaño de fuente más legible\n",
    "    wedgeprops={'edgecolor': 'black'}  # Bordes para mayor definición\n",
    ")\n",
    "\n",
    "# Agregar título\n",
    "plt.title('Distribución de Vehículos Eléctricos (Top 10 Provincias con mayor cantidad)', fontsize=14, weight='bold')\n",
    "\n",
    "# Añadir una leyenda fuera del gráfico\n",
    "plt.legend(\n",
    "    wedges, top_provinces2.index,\n",
    "    title=\"Provincias\",\n",
    "    loc=\"center left\",\n",
    "    bbox_to_anchor=(1, 0, 0.5, 1)\n",
    ")\n",
    "\n",
    "# Mejorar el diseño\n",
    "plt.tight_layout()\n",
    "\n",
    "# Mostrar el gráfico\n",
    "plt.show()"
   ]
  },
  {
   "cell_type": "markdown",
   "metadata": {},
   "source": [
    "Se puede apreciar que Madrid junto con Barcelona abarcan un 61.3% de la cantidad de Vehículos Eléctricos de las 10 provincias con mayor numero de Vehículos Eléctricos. "
   ]
  },
  {
   "cell_type": "markdown",
   "metadata": {},
   "source": [
    "## Cálculo del porcentaje de vehiculos en venta segun su tipo de combustible"
   ]
  },
  {
   "cell_type": "markdown",
   "metadata": {},
   "source": [
    "Resulta fundamental para el estudio analizar cómo se distribuyen los diferentes tipos de automóviles según su tipo de combustible en el mercado de vehículos de segunda mano, con el fin de comprender su volumen y participación en este ámbito."
   ]
  },
  {
   "cell_type": "code",
   "execution_count": 22,
   "metadata": {},
   "outputs": [
    {
     "data": {
      "text/html": [
       "<div>\n",
       "<style scoped>\n",
       "    .dataframe tbody tr th:only-of-type {\n",
       "        vertical-align: middle;\n",
       "    }\n",
       "\n",
       "    .dataframe tbody tr th {\n",
       "        vertical-align: top;\n",
       "    }\n",
       "\n",
       "    .dataframe thead th {\n",
       "        text-align: right;\n",
       "    }\n",
       "</style>\n",
       "<table border=\"1\" class=\"dataframe\">\n",
       "  <thead>\n",
       "    <tr style=\"text-align: right;\">\n",
       "      <th></th>\n",
       "      <th>fuel</th>\n",
       "      <th>porcentaje</th>\n",
       "    </tr>\n",
       "  </thead>\n",
       "  <tbody>\n",
       "    <tr>\n",
       "      <th>0</th>\n",
       "      <td>Diésel</td>\n",
       "      <td>61.788846</td>\n",
       "    </tr>\n",
       "    <tr>\n",
       "      <th>1</th>\n",
       "      <td>Gasolina</td>\n",
       "      <td>33.308644</td>\n",
       "    </tr>\n",
       "    <tr>\n",
       "      <th>2</th>\n",
       "      <td>Híbrido</td>\n",
       "      <td>2.350162</td>\n",
       "    </tr>\n",
       "    <tr>\n",
       "      <th>3</th>\n",
       "      <td>Eléctrico</td>\n",
       "      <td>1.117028</td>\n",
       "    </tr>\n",
       "    <tr>\n",
       "      <th>4</th>\n",
       "      <td>Híbrido enchufable</td>\n",
       "      <td>1.024943</td>\n",
       "    </tr>\n",
       "  </tbody>\n",
       "</table>\n",
       "</div>"
      ],
      "text/plain": [
       "                 fuel  porcentaje\n",
       "0              Diésel   61.788846\n",
       "1            Gasolina   33.308644\n",
       "2             Híbrido    2.350162\n",
       "3           Eléctrico    1.117028\n",
       "4  Híbrido enchufable    1.024943"
      ]
     },
     "execution_count": 22,
     "metadata": {},
     "output_type": "execute_result"
    }
   ],
   "source": [
    "# Leer el dataset nuevamente (el original)\n",
    "df = pd.read_csv('coches-de-segunda-mano-sample.csv')\n",
    "\n",
    "# Calcular el número de vehículos por tipo de combustible\n",
    "fuel_cuenta = df['fuel'].value_counts()\n",
    "\n",
    "# Calcular el porcentaje de vehículos por tipo de combustible\n",
    "fuel_porcentajes = (fuel_cuenta / fuel_cuenta.sum()) * 100\n",
    "\n",
    "# Crear un DataFrame para los porcentajes\n",
    "fuel_porcentajes_df = fuel_porcentajes.reset_index()\n",
    "fuel_porcentajes_df.columns = ['fuel', 'porcentaje']\n",
    "\n",
    "# Mostrar el DataFrame\n",
    "fuel_porcentajes_df.head()"
   ]
  },
  {
   "cell_type": "code",
   "execution_count": 23,
   "metadata": {},
   "outputs": [
    {
     "data": {
      "application/vnd.plotly.v1+json": {
       "config": {
        "plotlyServerURL": "https://plot.ly"
       },
       "data": [
        {
         "customdata": [
          [
           "Diésel"
          ],
          [
           "Gasolina"
          ],
          [
           "Híbrido"
          ],
          [
           "Eléctrico"
          ],
          [
           "Híbrido enchufable"
          ],
          [
           "Gas licuado (GLP)"
          ],
          [
           "Gas natural (CNG)"
          ]
         ],
         "domain": {
          "x": [
           0,
           1
          ],
          "y": [
           0,
           1
          ]
         },
         "hole": 0.3,
         "hovertemplate": "fuel=%{customdata[0]}<br>porcentaje=%{value}<extra></extra>",
         "labels": [
          "Diésel",
          "Gasolina",
          "Híbrido",
          "Eléctrico",
          "Híbrido enchufable",
          "Gas licuado (GLP)",
          "Gas natural (CNG)"
         ],
         "legendgroup": "",
         "marker": {
          "colors": [
           "blue",
           "red",
           "#FFA15A",
           "green",
           "#19d3f3",
           "#FF6692",
           "#B6E880"
          ]
         },
         "name": "",
         "pull": [
          0.1,
          0,
          0,
          0
         ],
         "showlegend": true,
         "textfont": {
          "size": 15
         },
         "textinfo": "percent+label",
         "type": "pie",
         "values": [
          61.78884573807903,
          33.30864395243624,
          2.350162149177243,
          1.117027665452216,
          1.0249429475117109,
          0.22820995315690437,
          0.1821675941866517
         ]
        }
       ],
       "layout": {
        "legend": {
         "tracegroupgap": 0
        },
        "margin": {
         "b": 50,
         "l": 50,
         "r": 50,
         "t": 50
        },
        "template": {
         "data": {
          "bar": [
           {
            "error_x": {
             "color": "#2a3f5f"
            },
            "error_y": {
             "color": "#2a3f5f"
            },
            "marker": {
             "line": {
              "color": "#E5ECF6",
              "width": 0.5
             },
             "pattern": {
              "fillmode": "overlay",
              "size": 10,
              "solidity": 0.2
             }
            },
            "type": "bar"
           }
          ],
          "barpolar": [
           {
            "marker": {
             "line": {
              "color": "#E5ECF6",
              "width": 0.5
             },
             "pattern": {
              "fillmode": "overlay",
              "size": 10,
              "solidity": 0.2
             }
            },
            "type": "barpolar"
           }
          ],
          "carpet": [
           {
            "aaxis": {
             "endlinecolor": "#2a3f5f",
             "gridcolor": "white",
             "linecolor": "white",
             "minorgridcolor": "white",
             "startlinecolor": "#2a3f5f"
            },
            "baxis": {
             "endlinecolor": "#2a3f5f",
             "gridcolor": "white",
             "linecolor": "white",
             "minorgridcolor": "white",
             "startlinecolor": "#2a3f5f"
            },
            "type": "carpet"
           }
          ],
          "choropleth": [
           {
            "colorbar": {
             "outlinewidth": 0,
             "ticks": ""
            },
            "type": "choropleth"
           }
          ],
          "contour": [
           {
            "colorbar": {
             "outlinewidth": 0,
             "ticks": ""
            },
            "colorscale": [
             [
              0,
              "#0d0887"
             ],
             [
              0.1111111111111111,
              "#46039f"
             ],
             [
              0.2222222222222222,
              "#7201a8"
             ],
             [
              0.3333333333333333,
              "#9c179e"
             ],
             [
              0.4444444444444444,
              "#bd3786"
             ],
             [
              0.5555555555555556,
              "#d8576b"
             ],
             [
              0.6666666666666666,
              "#ed7953"
             ],
             [
              0.7777777777777778,
              "#fb9f3a"
             ],
             [
              0.8888888888888888,
              "#fdca26"
             ],
             [
              1,
              "#f0f921"
             ]
            ],
            "type": "contour"
           }
          ],
          "contourcarpet": [
           {
            "colorbar": {
             "outlinewidth": 0,
             "ticks": ""
            },
            "type": "contourcarpet"
           }
          ],
          "heatmap": [
           {
            "colorbar": {
             "outlinewidth": 0,
             "ticks": ""
            },
            "colorscale": [
             [
              0,
              "#0d0887"
             ],
             [
              0.1111111111111111,
              "#46039f"
             ],
             [
              0.2222222222222222,
              "#7201a8"
             ],
             [
              0.3333333333333333,
              "#9c179e"
             ],
             [
              0.4444444444444444,
              "#bd3786"
             ],
             [
              0.5555555555555556,
              "#d8576b"
             ],
             [
              0.6666666666666666,
              "#ed7953"
             ],
             [
              0.7777777777777778,
              "#fb9f3a"
             ],
             [
              0.8888888888888888,
              "#fdca26"
             ],
             [
              1,
              "#f0f921"
             ]
            ],
            "type": "heatmap"
           }
          ],
          "heatmapgl": [
           {
            "colorbar": {
             "outlinewidth": 0,
             "ticks": ""
            },
            "colorscale": [
             [
              0,
              "#0d0887"
             ],
             [
              0.1111111111111111,
              "#46039f"
             ],
             [
              0.2222222222222222,
              "#7201a8"
             ],
             [
              0.3333333333333333,
              "#9c179e"
             ],
             [
              0.4444444444444444,
              "#bd3786"
             ],
             [
              0.5555555555555556,
              "#d8576b"
             ],
             [
              0.6666666666666666,
              "#ed7953"
             ],
             [
              0.7777777777777778,
              "#fb9f3a"
             ],
             [
              0.8888888888888888,
              "#fdca26"
             ],
             [
              1,
              "#f0f921"
             ]
            ],
            "type": "heatmapgl"
           }
          ],
          "histogram": [
           {
            "marker": {
             "pattern": {
              "fillmode": "overlay",
              "size": 10,
              "solidity": 0.2
             }
            },
            "type": "histogram"
           }
          ],
          "histogram2d": [
           {
            "colorbar": {
             "outlinewidth": 0,
             "ticks": ""
            },
            "colorscale": [
             [
              0,
              "#0d0887"
             ],
             [
              0.1111111111111111,
              "#46039f"
             ],
             [
              0.2222222222222222,
              "#7201a8"
             ],
             [
              0.3333333333333333,
              "#9c179e"
             ],
             [
              0.4444444444444444,
              "#bd3786"
             ],
             [
              0.5555555555555556,
              "#d8576b"
             ],
             [
              0.6666666666666666,
              "#ed7953"
             ],
             [
              0.7777777777777778,
              "#fb9f3a"
             ],
             [
              0.8888888888888888,
              "#fdca26"
             ],
             [
              1,
              "#f0f921"
             ]
            ],
            "type": "histogram2d"
           }
          ],
          "histogram2dcontour": [
           {
            "colorbar": {
             "outlinewidth": 0,
             "ticks": ""
            },
            "colorscale": [
             [
              0,
              "#0d0887"
             ],
             [
              0.1111111111111111,
              "#46039f"
             ],
             [
              0.2222222222222222,
              "#7201a8"
             ],
             [
              0.3333333333333333,
              "#9c179e"
             ],
             [
              0.4444444444444444,
              "#bd3786"
             ],
             [
              0.5555555555555556,
              "#d8576b"
             ],
             [
              0.6666666666666666,
              "#ed7953"
             ],
             [
              0.7777777777777778,
              "#fb9f3a"
             ],
             [
              0.8888888888888888,
              "#fdca26"
             ],
             [
              1,
              "#f0f921"
             ]
            ],
            "type": "histogram2dcontour"
           }
          ],
          "mesh3d": [
           {
            "colorbar": {
             "outlinewidth": 0,
             "ticks": ""
            },
            "type": "mesh3d"
           }
          ],
          "parcoords": [
           {
            "line": {
             "colorbar": {
              "outlinewidth": 0,
              "ticks": ""
             }
            },
            "type": "parcoords"
           }
          ],
          "pie": [
           {
            "automargin": true,
            "type": "pie"
           }
          ],
          "scatter": [
           {
            "fillpattern": {
             "fillmode": "overlay",
             "size": 10,
             "solidity": 0.2
            },
            "type": "scatter"
           }
          ],
          "scatter3d": [
           {
            "line": {
             "colorbar": {
              "outlinewidth": 0,
              "ticks": ""
             }
            },
            "marker": {
             "colorbar": {
              "outlinewidth": 0,
              "ticks": ""
             }
            },
            "type": "scatter3d"
           }
          ],
          "scattercarpet": [
           {
            "marker": {
             "colorbar": {
              "outlinewidth": 0,
              "ticks": ""
             }
            },
            "type": "scattercarpet"
           }
          ],
          "scattergeo": [
           {
            "marker": {
             "colorbar": {
              "outlinewidth": 0,
              "ticks": ""
             }
            },
            "type": "scattergeo"
           }
          ],
          "scattergl": [
           {
            "marker": {
             "colorbar": {
              "outlinewidth": 0,
              "ticks": ""
             }
            },
            "type": "scattergl"
           }
          ],
          "scattermapbox": [
           {
            "marker": {
             "colorbar": {
              "outlinewidth": 0,
              "ticks": ""
             }
            },
            "type": "scattermapbox"
           }
          ],
          "scatterpolar": [
           {
            "marker": {
             "colorbar": {
              "outlinewidth": 0,
              "ticks": ""
             }
            },
            "type": "scatterpolar"
           }
          ],
          "scatterpolargl": [
           {
            "marker": {
             "colorbar": {
              "outlinewidth": 0,
              "ticks": ""
             }
            },
            "type": "scatterpolargl"
           }
          ],
          "scatterternary": [
           {
            "marker": {
             "colorbar": {
              "outlinewidth": 0,
              "ticks": ""
             }
            },
            "type": "scatterternary"
           }
          ],
          "surface": [
           {
            "colorbar": {
             "outlinewidth": 0,
             "ticks": ""
            },
            "colorscale": [
             [
              0,
              "#0d0887"
             ],
             [
              0.1111111111111111,
              "#46039f"
             ],
             [
              0.2222222222222222,
              "#7201a8"
             ],
             [
              0.3333333333333333,
              "#9c179e"
             ],
             [
              0.4444444444444444,
              "#bd3786"
             ],
             [
              0.5555555555555556,
              "#d8576b"
             ],
             [
              0.6666666666666666,
              "#ed7953"
             ],
             [
              0.7777777777777778,
              "#fb9f3a"
             ],
             [
              0.8888888888888888,
              "#fdca26"
             ],
             [
              1,
              "#f0f921"
             ]
            ],
            "type": "surface"
           }
          ],
          "table": [
           {
            "cells": {
             "fill": {
              "color": "#EBF0F8"
             },
             "line": {
              "color": "white"
             }
            },
            "header": {
             "fill": {
              "color": "#C8D4E3"
             },
             "line": {
              "color": "white"
             }
            },
            "type": "table"
           }
          ]
         },
         "layout": {
          "annotationdefaults": {
           "arrowcolor": "#2a3f5f",
           "arrowhead": 0,
           "arrowwidth": 1
          },
          "autotypenumbers": "strict",
          "coloraxis": {
           "colorbar": {
            "outlinewidth": 0,
            "ticks": ""
           }
          },
          "colorscale": {
           "diverging": [
            [
             0,
             "#8e0152"
            ],
            [
             0.1,
             "#c51b7d"
            ],
            [
             0.2,
             "#de77ae"
            ],
            [
             0.3,
             "#f1b6da"
            ],
            [
             0.4,
             "#fde0ef"
            ],
            [
             0.5,
             "#f7f7f7"
            ],
            [
             0.6,
             "#e6f5d0"
            ],
            [
             0.7,
             "#b8e186"
            ],
            [
             0.8,
             "#7fbc41"
            ],
            [
             0.9,
             "#4d9221"
            ],
            [
             1,
             "#276419"
            ]
           ],
           "sequential": [
            [
             0,
             "#0d0887"
            ],
            [
             0.1111111111111111,
             "#46039f"
            ],
            [
             0.2222222222222222,
             "#7201a8"
            ],
            [
             0.3333333333333333,
             "#9c179e"
            ],
            [
             0.4444444444444444,
             "#bd3786"
            ],
            [
             0.5555555555555556,
             "#d8576b"
            ],
            [
             0.6666666666666666,
             "#ed7953"
            ],
            [
             0.7777777777777778,
             "#fb9f3a"
            ],
            [
             0.8888888888888888,
             "#fdca26"
            ],
            [
             1,
             "#f0f921"
            ]
           ],
           "sequentialminus": [
            [
             0,
             "#0d0887"
            ],
            [
             0.1111111111111111,
             "#46039f"
            ],
            [
             0.2222222222222222,
             "#7201a8"
            ],
            [
             0.3333333333333333,
             "#9c179e"
            ],
            [
             0.4444444444444444,
             "#bd3786"
            ],
            [
             0.5555555555555556,
             "#d8576b"
            ],
            [
             0.6666666666666666,
             "#ed7953"
            ],
            [
             0.7777777777777778,
             "#fb9f3a"
            ],
            [
             0.8888888888888888,
             "#fdca26"
            ],
            [
             1,
             "#f0f921"
            ]
           ]
          },
          "colorway": [
           "#636efa",
           "#EF553B",
           "#00cc96",
           "#ab63fa",
           "#FFA15A",
           "#19d3f3",
           "#FF6692",
           "#B6E880",
           "#FF97FF",
           "#FECB52"
          ],
          "font": {
           "color": "#2a3f5f"
          },
          "geo": {
           "bgcolor": "white",
           "lakecolor": "white",
           "landcolor": "#E5ECF6",
           "showlakes": true,
           "showland": true,
           "subunitcolor": "white"
          },
          "hoverlabel": {
           "align": "left"
          },
          "hovermode": "closest",
          "mapbox": {
           "style": "light"
          },
          "paper_bgcolor": "white",
          "plot_bgcolor": "#E5ECF6",
          "polar": {
           "angularaxis": {
            "gridcolor": "white",
            "linecolor": "white",
            "ticks": ""
           },
           "bgcolor": "#E5ECF6",
           "radialaxis": {
            "gridcolor": "white",
            "linecolor": "white",
            "ticks": ""
           }
          },
          "scene": {
           "xaxis": {
            "backgroundcolor": "#E5ECF6",
            "gridcolor": "white",
            "gridwidth": 2,
            "linecolor": "white",
            "showbackground": true,
            "ticks": "",
            "zerolinecolor": "white"
           },
           "yaxis": {
            "backgroundcolor": "#E5ECF6",
            "gridcolor": "white",
            "gridwidth": 2,
            "linecolor": "white",
            "showbackground": true,
            "ticks": "",
            "zerolinecolor": "white"
           },
           "zaxis": {
            "backgroundcolor": "#E5ECF6",
            "gridcolor": "white",
            "gridwidth": 2,
            "linecolor": "white",
            "showbackground": true,
            "ticks": "",
            "zerolinecolor": "white"
           }
          },
          "shapedefaults": {
           "line": {
            "color": "#2a3f5f"
           }
          },
          "ternary": {
           "aaxis": {
            "gridcolor": "white",
            "linecolor": "white",
            "ticks": ""
           },
           "baxis": {
            "gridcolor": "white",
            "linecolor": "white",
            "ticks": ""
           },
           "bgcolor": "#E5ECF6",
           "caxis": {
            "gridcolor": "white",
            "linecolor": "white",
            "ticks": ""
           }
          },
          "title": {
           "x": 0.05
          },
          "xaxis": {
           "automargin": true,
           "gridcolor": "white",
           "linecolor": "white",
           "ticks": "",
           "title": {
            "standoff": 15
           },
           "zerolinecolor": "white",
           "zerolinewidth": 2
          },
          "yaxis": {
           "automargin": true,
           "gridcolor": "white",
           "linecolor": "white",
           "ticks": "",
           "title": {
            "standoff": 15
           },
           "zerolinecolor": "white",
           "zerolinewidth": 2
          }
         }
        },
        "title": {
         "font": {
          "color": "darkblue",
          "size": 18
         },
         "text": "Distribución de vehículos en venta según tipo de combustible"
        }
       }
      }
     },
     "metadata": {},
     "output_type": "display_data"
    }
   ],
   "source": [
    "# Crear el gráfico de pastel\n",
    "fig = px.pie(fuel_porcentajes_df, \n",
    "            values='porcentaje',  # Los valores que determinarán el tamaño de las porciones\n",
    "            names='fuel',  # Las categorías que serán mostradas como etiquetas\n",
    "            title='Distribución de vehículos en venta según tipo de combustible',  # Título descriptivo\n",
    "            color='fuel',  # Colores asignados a cada categoría (combustible)\n",
    "            color_discrete_map={'Eléctrico': 'green', 'Gasolina': 'red', 'Diésel': 'blue', 'CNG': 'orange'},  # Colores personalizados\n",
    "            hole=0.3)  # Hacer el gráfico tipo donut para hacerlo más estético\n",
    "\n",
    "# Agregar detalles al gráfico\n",
    "fig.update_traces(textinfo='percent+label',  # Mostrar tanto el porcentaje como la etiqueta\n",
    "                pull=[0.1, 0, 0, 0],  # Resaltar la categoría \"Eléctrico\" (por ejemplo) por medio de la opción \"pull\"\n",
    "                textfont_size=15)  # Ajustar el tamaño del texto para mayor legibilidad\n",
    "\n",
    "# Personalizar el diseño para hacerlo más atractivo\n",
    "fig.update_layout(\n",
    "    title_font_size=18,  # Tamaño de fuente más grande para el título\n",
    "    title_font_color='darkblue',  # Color del título para mayor contraste\n",
    "    margin=dict(t=50, b=50, l=50, r=50)  # Ajuste de márgenes para evitar que el gráfico se corte\n",
    ")\n",
    "\n",
    "# Mostrar el gráfico\n",
    "fig.show()\n"
   ]
  },
  {
   "cell_type": "markdown",
   "metadata": {},
   "source": [
    "En este gráfico se evidencia que, en el mercado de venta de segunda mano, los automóviles con combustible diésel predominan, mientras que los que utilizan gas natural (CNG) representan una minoría. Este análisis puede servir como punto de partida para comprender las preferencias del mercado respecto a los tipos de vehículos más demandados."
   ]
  },
  {
   "cell_type": "markdown",
   "metadata": {},
   "source": [
    "## Top 10 modelos con mayor número de coches en venta en las plataformas de coches de segunda mano."
   ]
  },
  {
   "cell_type": "markdown",
   "metadata": {},
   "source": [
    "Es relevante tambien, a su vez, analizar los marcas de autos usados mas vendidas."
   ]
  },
  {
   "cell_type": "code",
   "execution_count": 21,
   "metadata": {},
   "outputs": [
    {
     "data": {
      "image/png": "[encoded data removed]",
      "text/plain": [
       "<Figure size 1400x800 with 1 Axes>"
      ]
     },
     "metadata": {},
     "output_type": "display_data"
    }
   ],
   "source": [
    "df['ModeloCompleto'] = df['make'] + ' ' + df['model']\n",
    "\n",
    "# Contar las ventas por modelo completo\n",
    "ventas_por_modelo = df['ModeloCompleto'].value_counts().head(10)\n",
    "\n",
    "# Configuración de la gráfica\n",
    "plt.figure(figsize=(14, 8))\n",
    "ventas_por_modelo.plot(kind='bar', color='skyblue')\n",
    "\n",
    "plt.xlabel('Modelo')\n",
    "plt.ylabel('Número de Ventas')\n",
    "plt.title('Top 10 Autos Más Vendidos')\n",
    "plt.xticks(rotation=45)\n",
    "plt.grid(True)\n",
    "plt.show()"
   ]
  },
  {
   "cell_type": "markdown",
   "metadata": {},
   "source": [
    "## Tendencias de ventas de autos usados a lo largo de los años."
   ]
  },
  {
   "cell_type": "markdown",
   "metadata": {},
   "source": [
    "En este apartado del análisis, se busca examinar cómo han evolucionado las preferencias de los usuarios hacia distintas marcas de vehículos a lo largo del tiempo. Para ello, se toma como indicador la fecha media de fabricación de los coches, lo que permite identificar patrones y cambios en las preferencias del mercado a medida que avanzan los años."
   ]
  },
  {
   "cell_type": "code",
   "execution_count": 22,
   "metadata": {},
   "outputs": [
    {
     "data": {
      "application/vnd.plotly.v1+json": {
       "config": {
        "plotlyServerURL": "https://plot.ly"
       },
       "data": [
        {
         "alignmentgroup": "True",
         "hovertemplate": "marca=%{x}<br>fecha_media=%{y}<extra></extra>",
         "legendgroup": "",
         "marker": {
          "color": "#636efa",
          "pattern": {
           "shape": ""
          }
         },
         "name": "",
         "offsetgroup": "",
         "orientation": "v",
         "showlegend": false,
         "textposition": "auto",
         "type": "bar",
         "x": [
          "ABARTH",
          "ALFA ROMEO",
          "ALPINE",
          "ARO",
          "ASTON MARTIN",
          "AUDI",
          "AUSTIN",
          "BENTLEY",
          "BMW",
          "CADILLAC",
          "CHEVROLET",
          "CHRYSLER",
          "CITROEN",
          "CORVETTE",
          "CUPRA",
          "DACIA",
          "DAEWOO",
          "DAIHATSU",
          "DFSK",
          "DODGE",
          "DR AUTOMOBILES",
          "DS",
          "FERRARI",
          "FIAT",
          "FORD",
          "GALLOPER",
          "HONDA",
          "HUMMER",
          "HYUNDAI",
          "INFINITI",
          "ISUZU",
          "IVECO",
          "IVECO-PEGASO",
          "JAGUAR",
          "JEEP",
          "KIA",
          "LADA",
          "LAMBORGHINI",
          "LANCIA",
          "LAND-ROVER",
          "LDV",
          "LEXUS",
          "LOTUS",
          "MAHINDRA",
          "MASERATI",
          "MAXUS",
          "MAZDA",
          "MERCEDES-BENZ",
          "MG",
          "MINI",
          "MITSUBISHI",
          "MORGAN",
          "NISSAN",
          "OPEL",
          "PEUGEOT",
          "PIAGGIO",
          "PONTIAC",
          "PORSCHE",
          "RENAULT",
          "ROVER",
          "SAAB",
          "SANTANA",
          "SEAT",
          "SKODA",
          "SMART",
          "SSANGYONG",
          "SUBARU",
          "SUZUKI",
          "TATA",
          "TESLA",
          "TOYOTA",
          "UMM",
          "VAZ",
          "VOLKSWAGEN",
          "VOLVO"
         ],
         "xaxis": "x",
         "y": [
          2017.3125,
          2011.4668874172185,
          2019,
          2004,
          2011.2666666666667,
          2011.9727636849132,
          1995,
          2011.32,
          2011.311529933481,
          2004.7142857142858,
          2009.375,
          2004.6587301587301,
          2012.074255691769,
          2007.3333333333333,
          2019.8,
          2015.4584837545126,
          2001.8222222222223,
          2000,
          2019.75,
          2008.0357142857142,
          2020,
          2018,
          2011.483870967742,
          2014.1874105865522,
          2012.2596277278562,
          2000.5,
          2009.9224137931035,
          2005.25,
          2014.7206266318537,
          2015.551282051282,
          2018,
          2011.875,
          1999,
          2012.0117994100294,
          2013.923076923077,
          2015.77260519248,
          2000.5,
          2013,
          2006.5,
          2013.6252100840336,
          2011,
          2014.4787234042553,
          2000,
          2017.8181818181818,
          2014.5806451612902,
          2021,
          2013.2,
          2012.0856399337592,
          2001.7272727272727,
          2012.9358816276201,
          2010.7784431137725,
          1989,
          2013.6903304773562,
          2012.2127222982217,
          2012.8470126735062,
          2017,
          1995,
          2011.6441005802708,
          2011.4803325871442,
          1999.611111111111,
          2005.4657534246576,
          2005.5,
          2011.8159815597387,
          2014.8118466898954,
          2013.1734693877552,
          2011.986111111111,
          2012.969696969697,
          2011.4087301587301,
          2008,
          2017.608695652174,
          2013.3732394366198,
          1993,
          2004,
          2011.3724048442907,
          2013.0741190765493
         ],
         "yaxis": "y"
        }
       ],
       "layout": {
        "barmode": "relative",
        "legend": {
         "tracegroupgap": 0
        },
        "template": {
         "data": {
          "bar": [
           {
            "error_x": {
             "color": "#2a3f5f"
            },
            "error_y": {
             "color": "#2a3f5f"
            },
            "marker": {
             "line": {
              "color": "#E5ECF6",
              "width": 0.5
             },
             "pattern": {
              "fillmode": "overlay",
              "size": 10,
              "solidity": 0.2
             }
            },
            "type": "bar"
           }
          ],
          "barpolar": [
           {
            "marker": {
             "line": {
              "color": "#E5ECF6",
              "width": 0.5
             },
             "pattern": {
              "fillmode": "overlay",
              "size": 10,
              "solidity": 0.2
             }
            },
            "type": "barpolar"
           }
          ],
          "carpet": [
           {
            "aaxis": {
             "endlinecolor": "#2a3f5f",
             "gridcolor": "white",
             "linecolor": "white",
             "minorgridcolor": "white",
             "startlinecolor": "#2a3f5f"
            },
            "baxis": {
             "endlinecolor": "#2a3f5f",
             "gridcolor": "white",
             "linecolor": "white",
             "minorgridcolor": "white",
             "startlinecolor": "#2a3f5f"
            },
            "type": "carpet"
           }
          ],
          "choropleth": [
           {
            "colorbar": {
             "outlinewidth": 0,
             "ticks": ""
            },
            "type": "choropleth"
           }
          ],
          "contour": [
           {
            "colorbar": {
             "outlinewidth": 0,
             "ticks": ""
            },
            "colorscale": [
             [
              0,
              "#0d0887"
             ],
             [
              0.1111111111111111,
              "#46039f"
             ],
             [
              0.2222222222222222,
              "#7201a8"
             ],
             [
              0.3333333333333333,
              "#9c179e"
             ],
             [
              0.4444444444444444,
              "#bd3786"
             ],
             [
              0.5555555555555556,
              "#d8576b"
             ],
             [
              0.6666666666666666,
              "#ed7953"
             ],
             [
              0.7777777777777778,
              "#fb9f3a"
             ],
             [
              0.8888888888888888,
              "#fdca26"
             ],
             [
              1,
              "#f0f921"
             ]
            ],
            "type": "contour"
           }
          ],
          "contourcarpet": [
           {
            "colorbar": {
             "outlinewidth": 0,
             "ticks": ""
            },
            "type": "contourcarpet"
           }
          ],
          "heatmap": [
           {
            "colorbar": {
             "outlinewidth": 0,
             "ticks": ""
            },
            "colorscale": [
             [
              0,
              "#0d0887"
             ],
             [
              0.1111111111111111,
              "#46039f"
             ],
             [
              0.2222222222222222,
              "#7201a8"
             ],
             [
              0.3333333333333333,
              "#9c179e"
             ],
             [
              0.4444444444444444,
              "#bd3786"
             ],
             [
              0.5555555555555556,
              "#d8576b"
             ],
             [
              0.6666666666666666,
              "#ed7953"
             ],
             [
              0.7777777777777778,
              "#fb9f3a"
             ],
             [
              0.8888888888888888,
              "#fdca26"
             ],
             [
              1,
              "#f0f921"
             ]
            ],
            "type": "heatmap"
           }
          ],
          "heatmapgl": [
           {
            "colorbar": {
             "outlinewidth": 0,
             "ticks": ""
            },
            "colorscale": [
             [
              0,
              "#0d0887"
             ],
             [
              0.1111111111111111,
              "#46039f"
             ],
             [
              0.2222222222222222,
              "#7201a8"
             ],
             [
              0.3333333333333333,
              "#9c179e"
             ],
             [
              0.4444444444444444,
              "#bd3786"
             ],
             [
              0.5555555555555556,
              "#d8576b"
             ],
             [
              0.6666666666666666,
              "#ed7953"
             ],
             [
              0.7777777777777778,
              "#fb9f3a"
             ],
             [
              0.8888888888888888,
              "#fdca26"
             ],
             [
              1,
              "#f0f921"
             ]
            ],
            "type": "heatmapgl"
           }
          ],
          "histogram": [
           {
            "marker": {
             "pattern": {
              "fillmode": "overlay",
              "size": 10,
              "solidity": 0.2
             }
            },
            "type": "histogram"
           }
          ],
          "histogram2d": [
           {
            "colorbar": {
             "outlinewidth": 0,
             "ticks": ""
            },
            "colorscale": [
             [
              0,
              "#0d0887"
             ],
             [
              0.1111111111111111,
              "#46039f"
             ],
             [
              0.2222222222222222,
              "#7201a8"
             ],
             [
              0.3333333333333333,
              "#9c179e"
             ],
             [
              0.4444444444444444,
              "#bd3786"
             ],
             [
              0.5555555555555556,
              "#d8576b"
             ],
             [
              0.6666666666666666,
              "#ed7953"
             ],
             [
              0.7777777777777778,
              "#fb9f3a"
             ],
             [
              0.8888888888888888,
              "#fdca26"
             ],
             [
              1,
              "#f0f921"
             ]
            ],
            "type": "histogram2d"
           }
          ],
          "histogram2dcontour": [
           {
            "colorbar": {
             "outlinewidth": 0,
             "ticks": ""
            },
            "colorscale": [
             [
              0,
              "#0d0887"
             ],
             [
              0.1111111111111111,
              "#46039f"
             ],
             [
              0.2222222222222222,
              "#7201a8"
             ],
             [
              0.3333333333333333,
              "#9c179e"
             ],
             [
              0.4444444444444444,
              "#bd3786"
             ],
             [
              0.5555555555555556,
              "#d8576b"
             ],
             [
              0.6666666666666666,
              "#ed7953"
             ],
             [
              0.7777777777777778,
              "#fb9f3a"
             ],
             [
              0.8888888888888888,
              "#fdca26"
             ],
             [
              1,
              "#f0f921"
             ]
            ],
            "type": "histogram2dcontour"
           }
          ],
          "mesh3d": [
           {
            "colorbar": {
             "outlinewidth": 0,
             "ticks": ""
            },
            "type": "mesh3d"
           }
          ],
          "parcoords": [
           {
            "line": {
             "colorbar": {
              "outlinewidth": 0,
              "ticks": ""
             }
            },
            "type": "parcoords"
           }
          ],
          "pie": [
           {
            "automargin": true,
            "type": "pie"
           }
          ],
          "scatter": [
           {
            "fillpattern": {
             "fillmode": "overlay",
             "size": 10,
             "solidity": 0.2
            },
            "type": "scatter"
           }
          ],
          "scatter3d": [
           {
            "line": {
             "colorbar": {
              "outlinewidth": 0,
              "ticks": ""
             }
            },
            "marker": {
             "colorbar": {
              "outlinewidth": 0,
              "ticks": ""
             }
            },
            "type": "scatter3d"
           }
          ],
          "scattercarpet": [
           {
            "marker": {
             "colorbar": {
              "outlinewidth": 0,
              "ticks": ""
             }
            },
            "type": "scattercarpet"
           }
          ],
          "scattergeo": [
           {
            "marker": {
             "colorbar": {
              "outlinewidth": 0,
              "ticks": ""
             }
            },
            "type": "scattergeo"
           }
          ],
          "scattergl": [
           {
            "marker": {
             "colorbar": {
              "outlinewidth": 0,
              "ticks": ""
             }
            },
            "type": "scattergl"
           }
          ],
          "scattermapbox": [
           {
            "marker": {
             "colorbar": {
              "outlinewidth": 0,
              "ticks": ""
             }
            },
            "type": "scattermapbox"
           }
          ],
          "scatterpolar": [
           {
            "marker": {
             "colorbar": {
              "outlinewidth": 0,
              "ticks": ""
             }
            },
            "type": "scatterpolar"
           }
          ],
          "scatterpolargl": [
           {
            "marker": {
             "colorbar": {
              "outlinewidth": 0,
              "ticks": ""
             }
            },
            "type": "scatterpolargl"
           }
          ],
          "scatterternary": [
           {
            "marker": {
             "colorbar": {
              "outlinewidth": 0,
              "ticks": ""
             }
            },
            "type": "scatterternary"
           }
          ],
          "surface": [
           {
            "colorbar": {
             "outlinewidth": 0,
             "ticks": ""
            },
            "colorscale": [
             [
              0,
              "#0d0887"
             ],
             [
              0.1111111111111111,
              "#46039f"
             ],
             [
              0.2222222222222222,
              "#7201a8"
             ],
             [
              0.3333333333333333,
              "#9c179e"
             ],
             [
              0.4444444444444444,
              "#bd3786"
             ],
             [
              0.5555555555555556,
              "#d8576b"
             ],
             [
              0.6666666666666666,
              "#ed7953"
             ],
             [
              0.7777777777777778,
              "#fb9f3a"
             ],
             [
              0.8888888888888888,
              "#fdca26"
             ],
             [
              1,
              "#f0f921"
             ]
            ],
            "type": "surface"
           }
          ],
          "table": [
           {
            "cells": {
             "fill": {
              "color": "#EBF0F8"
             },
             "line": {
              "color": "white"
             }
            },
            "header": {
             "fill": {
              "color": "#C8D4E3"
             },
             "line": {
              "color": "white"
             }
            },
            "type": "table"
           }
          ]
         },
         "layout": {
          "annotationdefaults": {
           "arrowcolor": "#2a3f5f",
           "arrowhead": 0,
           "arrowwidth": 1
          },
          "autotypenumbers": "strict",
          "coloraxis": {
           "colorbar": {
            "outlinewidth": 0,
            "ticks": ""
           }
          },
          "colorscale": {
           "diverging": [
            [
             0,
             "#8e0152"
            ],
            [
             0.1,
             "#c51b7d"
            ],
            [
             0.2,
             "#de77ae"
            ],
            [
             0.3,
             "#f1b6da"
            ],
            [
             0.4,
             "#fde0ef"
            ],
            [
             0.5,
             "#f7f7f7"
            ],
            [
             0.6,
             "#e6f5d0"
            ],
            [
             0.7,
             "#b8e186"
            ],
            [
             0.8,
             "#7fbc41"
            ],
            [
             0.9,
             "#4d9221"
            ],
            [
             1,
             "#276419"
            ]
           ],
           "sequential": [
            [
             0,
             "#0d0887"
            ],
            [
             0.1111111111111111,
             "#46039f"
            ],
            [
             0.2222222222222222,
             "#7201a8"
            ],
            [
             0.3333333333333333,
             "#9c179e"
            ],
            [
             0.4444444444444444,
             "#bd3786"
            ],
            [
             0.5555555555555556,
             "#d8576b"
            ],
            [
             0.6666666666666666,
             "#ed7953"
            ],
            [
             0.7777777777777778,
             "#fb9f3a"
            ],
            [
             0.8888888888888888,
             "#fdca26"
            ],
            [
             1,
             "#f0f921"
            ]
           ],
           "sequentialminus": [
            [
             0,
             "#0d0887"
            ],
            [
             0.1111111111111111,
             "#46039f"
            ],
            [
             0.2222222222222222,
             "#7201a8"
            ],
            [
             0.3333333333333333,
             "#9c179e"
            ],
            [
             0.4444444444444444,
             "#bd3786"
            ],
            [
             0.5555555555555556,
             "#d8576b"
            ],
            [
             0.6666666666666666,
             "#ed7953"
            ],
            [
             0.7777777777777778,
             "#fb9f3a"
            ],
            [
             0.8888888888888888,
             "#fdca26"
            ],
            [
             1,
             "#f0f921"
            ]
           ]
          },
          "colorway": [
           "#636efa",
           "#EF553B",
           "#00cc96",
           "#ab63fa",
           "#FFA15A",
           "#19d3f3",
           "#FF6692",
           "#B6E880",
           "#FF97FF",
           "#FECB52"
          ],
          "font": {
           "color": "#2a3f5f"
          },
          "geo": {
           "bgcolor": "white",
           "lakecolor": "white",
           "landcolor": "#E5ECF6",
           "showlakes": true,
           "showland": true,
           "subunitcolor": "white"
          },
          "hoverlabel": {
           "align": "left"
          },
          "hovermode": "closest",
          "mapbox": {
           "style": "light"
          },
          "paper_bgcolor": "white",
          "plot_bgcolor": "#E5ECF6",
          "polar": {
           "angularaxis": {
            "gridcolor": "white",
            "linecolor": "white",
            "ticks": ""
           },
           "bgcolor": "#E5ECF6",
           "radialaxis": {
            "gridcolor": "white",
            "linecolor": "white",
            "ticks": ""
           }
          },
          "scene": {
           "xaxis": {
            "backgroundcolor": "#E5ECF6",
            "gridcolor": "white",
            "gridwidth": 2,
            "linecolor": "white",
            "showbackground": true,
            "ticks": "",
            "zerolinecolor": "white"
           },
           "yaxis": {
            "backgroundcolor": "#E5ECF6",
            "gridcolor": "white",
            "gridwidth": 2,
            "linecolor": "white",
            "showbackground": true,
            "ticks": "",
            "zerolinecolor": "white"
           },
           "zaxis": {
            "backgroundcolor": "#E5ECF6",
            "gridcolor": "white",
            "gridwidth": 2,
            "linecolor": "white",
            "showbackground": true,
            "ticks": "",
            "zerolinecolor": "white"
           }
          },
          "shapedefaults": {
           "line": {
            "color": "#2a3f5f"
           }
          },
          "ternary": {
           "aaxis": {
            "gridcolor": "white",
            "linecolor": "white",
            "ticks": ""
           },
           "baxis": {
            "gridcolor": "white",
            "linecolor": "white",
            "ticks": ""
           },
           "bgcolor": "#E5ECF6",
           "caxis": {
            "gridcolor": "white",
            "linecolor": "white",
            "ticks": ""
           }
          },
          "title": {
           "x": 0.05
          },
          "xaxis": {
           "automargin": true,
           "gridcolor": "white",
           "linecolor": "white",
           "ticks": "",
           "title": {
            "standoff": 15
           },
           "zerolinecolor": "white",
           "zerolinewidth": 2
          },
          "yaxis": {
           "automargin": true,
           "gridcolor": "white",
           "linecolor": "white",
           "ticks": "",
           "title": {
            "standoff": 15
           },
           "zerolinecolor": "white",
           "zerolinewidth": 2
          }
         }
        },
        "title": {
         "text": "Fecha media de fabricacion por marca"
        },
        "xaxis": {
         "anchor": "y",
         "domain": [
          0,
          1
         ],
         "title": {
          "text": "marca"
         }
        },
        "yaxis": {
         "anchor": "x",
         "domain": [
          0,
          1
         ],
         "range": [
          1990,
          2025
         ],
         "title": {
          "text": "Fecha Media de Fabricación"
         }
        }
       }
      },
      "text/html": [
       "<div>                            <div id=\"ef398abf-58ed-4837-8715-4c1f03885f59\" class=\"plotly-graph-div\" style=\"height:525px; width:100%;\"></div>            <script type=\"text/javascript\">                require([\"plotly\"], function(Plotly) {                    window.PLOTLYENV=window.PLOTLYENV || {};                                    if (document.getElementById(\"ef398abf-58ed-4837-8715-4c1f03885f59\")) {                    Plotly.newPlot(                        \"ef398abf-58ed-4837-8715-4c1f03885f59\",                        [{\"alignmentgroup\":\"True\",\"hovertemplate\":\"marca=%{x}\\u003cbr\\u003efecha_media=%{y}\\u003cextra\\u003e\\u003c\\u002fextra\\u003e\",\"legendgroup\":\"\",\"marker\":{\"color\":\"#636efa\",\"pattern\":{\"shape\":\"\"}},\"name\":\"\",\"offsetgroup\":\"\",\"orientation\":\"v\",\"showlegend\":false,\"textposition\":\"auto\",\"x\":[\"ABARTH\",\"ALFA ROMEO\",\"ALPINE\",\"ARO\",\"ASTON MARTIN\",\"AUDI\",\"AUSTIN\",\"BENTLEY\",\"BMW\",\"CADILLAC\",\"CHEVROLET\",\"CHRYSLER\",\"CITROEN\",\"CORVETTE\",\"CUPRA\",\"DACIA\",\"DAEWOO\",\"DAIHATSU\",\"DFSK\",\"DODGE\",\"DR AUTOMOBILES\",\"DS\",\"FERRARI\",\"FIAT\",\"FORD\",\"GALLOPER\",\"HONDA\",\"HUMMER\",\"HYUNDAI\",\"INFINITI\",\"ISUZU\",\"IVECO\",\"IVECO-PEGASO\",\"JAGUAR\",\"JEEP\",\"KIA\",\"LADA\",\"LAMBORGHINI\",\"LANCIA\",\"LAND-ROVER\",\"LDV\",\"LEXUS\",\"LOTUS\",\"MAHINDRA\",\"MASERATI\",\"MAXUS\",\"MAZDA\",\"MERCEDES-BENZ\",\"MG\",\"MINI\",\"MITSUBISHI\",\"MORGAN\",\"NISSAN\",\"OPEL\",\"PEUGEOT\",\"PIAGGIO\",\"PONTIAC\",\"PORSCHE\",\"RENAULT\",\"ROVER\",\"SAAB\",\"SANTANA\",\"SEAT\",\"SKODA\",\"SMART\",\"SSANGYONG\",\"SUBARU\",\"SUZUKI\",\"TATA\",\"TESLA\",\"TOYOTA\",\"UMM\",\"VAZ\",\"VOLKSWAGEN\",\"VOLVO\"],\"xaxis\":\"x\",\"y\":[2017.3125,2011.4668874172185,2019.0,2004.0,2011.2666666666667,2011.9727636849132,1995.0,2011.32,2011.311529933481,2004.7142857142858,2009.375,2004.6587301587301,2012.074255691769,2007.3333333333333,2019.8,2015.4584837545126,2001.8222222222223,2000.0,2019.75,2008.0357142857142,2020.0,2018.0,2011.483870967742,2014.1874105865522,2012.2596277278562,2000.5,2009.9224137931035,2005.25,2014.7206266318537,2015.551282051282,2018.0,2011.875,1999.0,2012.0117994100294,2013.923076923077,2015.77260519248,2000.5,2013.0,2006.5,2013.6252100840336,2011.0,2014.4787234042553,2000.0,2017.8181818181818,2014.5806451612902,2021.0,2013.2,2012.0856399337592,2001.7272727272727,2012.9358816276201,2010.7784431137725,1989.0,2013.6903304773562,2012.2127222982217,2012.8470126735062,2017.0,1995.0,2011.6441005802708,2011.4803325871442,1999.611111111111,2005.4657534246576,2005.5,2011.8159815597387,2014.8118466898954,2013.1734693877552,2011.986111111111,2012.969696969697,2011.4087301587301,2008.0,2017.608695652174,2013.3732394366198,1993.0,2004.0,2011.3724048442907,2013.0741190765493],\"yaxis\":\"y\",\"type\":\"bar\"}],                        {\"template\":{\"data\":{\"histogram2dcontour\":[{\"type\":\"histogram2dcontour\",\"colorbar\":{\"outlinewidth\":0,\"ticks\":\"\"},\"colorscale\":[[0.0,\"#0d0887\"],[0.1111111111111111,\"#46039f\"],[0.2222222222222222,\"#7201a8\"],[0.3333333333333333,\"#9c179e\"],[0.4444444444444444,\"#bd3786\"],[0.5555555555555556,\"#d8576b\"],[0.6666666666666666,\"#ed7953\"],[0.7777777777777778,\"#fb9f3a\"],[0.8888888888888888,\"#fdca26\"],[1.0,\"#f0f921\"]]}],\"choropleth\":[{\"type\":\"choropleth\",\"colorbar\":{\"outlinewidth\":0,\"ticks\":\"\"}}],\"histogram2d\":[{\"type\":\"histogram2d\",\"colorbar\":{\"outlinewidth\":0,\"ticks\":\"\"},\"colorscale\":[[0.0,\"#0d0887\"],[0.1111111111111111,\"#46039f\"],[0.2222222222222222,\"#7201a8\"],[0.3333333333333333,\"#9c179e\"],[0.4444444444444444,\"#bd3786\"],[0.5555555555555556,\"#d8576b\"],[0.6666666666666666,\"#ed7953\"],[0.7777777777777778,\"#fb9f3a\"],[0.8888888888888888,\"#fdca26\"],[1.0,\"#f0f921\"]]}],\"heatmap\":[{\"type\":\"heatmap\",\"colorbar\":{\"outlinewidth\":0,\"ticks\":\"\"},\"colorscale\":[[0.0,\"#0d0887\"],[0.1111111111111111,\"#46039f\"],[0.2222222222222222,\"#7201a8\"],[0.3333333333333333,\"#9c179e\"],[0.4444444444444444,\"#bd3786\"],[0.5555555555555556,\"#d8576b\"],[0.6666666666666666,\"#ed7953\"],[0.7777777777777778,\"#fb9f3a\"],[0.8888888888888888,\"#fdca26\"],[1.0,\"#f0f921\"]]}],\"heatmapgl\":[{\"type\":\"heatmapgl\",\"colorbar\":{\"outlinewidth\":0,\"ticks\":\"\"},\"colorscale\":[[0.0,\"#0d0887\"],[0.1111111111111111,\"#46039f\"],[0.2222222222222222,\"#7201a8\"],[0.3333333333333333,\"#9c179e\"],[0.4444444444444444,\"#bd3786\"],[0.5555555555555556,\"#d8576b\"],[0.6666666666666666,\"#ed7953\"],[0.7777777777777778,\"#fb9f3a\"],[0.8888888888888888,\"#fdca26\"],[1.0,\"#f0f921\"]]}],\"contourcarpet\":[{\"type\":\"contourcarpet\",\"colorbar\":{\"outlinewidth\":0,\"ticks\":\"\"}}],\"contour\":[{\"type\":\"contour\",\"colorbar\":{\"outlinewidth\":0,\"ticks\":\"\"},\"colorscale\":[[0.0,\"#0d0887\"],[0.1111111111111111,\"#46039f\"],[0.2222222222222222,\"#7201a8\"],[0.3333333333333333,\"#9c179e\"],[0.4444444444444444,\"#bd3786\"],[0.5555555555555556,\"#d8576b\"],[0.6666666666666666,\"#ed7953\"],[0.7777777777777778,\"#fb9f3a\"],[0.8888888888888888,\"#fdca26\"],[1.0,\"#f0f921\"]]}],\"surface\":[{\"type\":\"surface\",\"colorbar\":{\"outlinewidth\":0,\"ticks\":\"\"},\"colorscale\":[[0.0,\"#0d0887\"],[0.1111111111111111,\"#46039f\"],[0.2222222222222222,\"#7201a8\"],[0.3333333333333333,\"#9c179e\"],[0.4444444444444444,\"#bd3786\"],[0.5555555555555556,\"#d8576b\"],[0.6666666666666666,\"#ed7953\"],[0.7777777777777778,\"#fb9f3a\"],[0.8888888888888888,\"#fdca26\"],[1.0,\"#f0f921\"]]}],\"mesh3d\":[{\"type\":\"mesh3d\",\"colorbar\":{\"outlinewidth\":0,\"ticks\":\"\"}}],\"scatter\":[{\"fillpattern\":{\"fillmode\":\"overlay\",\"size\":10,\"solidity\":0.2},\"type\":\"scatter\"}],\"parcoords\":[{\"type\":\"parcoords\",\"line\":{\"colorbar\":{\"outlinewidth\":0,\"ticks\":\"\"}}}],\"scatterpolargl\":[{\"type\":\"scatterpolargl\",\"marker\":{\"colorbar\":{\"outlinewidth\":0,\"ticks\":\"\"}}}],\"bar\":[{\"error_x\":{\"color\":\"#2a3f5f\"},\"error_y\":{\"color\":\"#2a3f5f\"},\"marker\":{\"line\":{\"color\":\"#E5ECF6\",\"width\":0.5},\"pattern\":{\"fillmode\":\"overlay\",\"size\":10,\"solidity\":0.2}},\"type\":\"bar\"}],\"scattergeo\":[{\"type\":\"scattergeo\",\"marker\":{\"colorbar\":{\"outlinewidth\":0,\"ticks\":\"\"}}}],\"scatterpolar\":[{\"type\":\"scatterpolar\",\"marker\":{\"colorbar\":{\"outlinewidth\":0,\"ticks\":\"\"}}}],\"histogram\":[{\"marker\":{\"pattern\":{\"fillmode\":\"overlay\",\"size\":10,\"solidity\":0.2}},\"type\":\"histogram\"}],\"scattergl\":[{\"type\":\"scattergl\",\"marker\":{\"colorbar\":{\"outlinewidth\":0,\"ticks\":\"\"}}}],\"scatter3d\":[{\"type\":\"scatter3d\",\"line\":{\"colorbar\":{\"outlinewidth\":0,\"ticks\":\"\"}},\"marker\":{\"colorbar\":{\"outlinewidth\":0,\"ticks\":\"\"}}}],\"scattermapbox\":[{\"type\":\"scattermapbox\",\"marker\":{\"colorbar\":{\"outlinewidth\":0,\"ticks\":\"\"}}}],\"scatterternary\":[{\"type\":\"scatterternary\",\"marker\":{\"colorbar\":{\"outlinewidth\":0,\"ticks\":\"\"}}}],\"scattercarpet\":[{\"type\":\"scattercarpet\",\"marker\":{\"colorbar\":{\"outlinewidth\":0,\"ticks\":\"\"}}}],\"carpet\":[{\"aaxis\":{\"endlinecolor\":\"#2a3f5f\",\"gridcolor\":\"white\",\"linecolor\":\"white\",\"minorgridcolor\":\"white\",\"startlinecolor\":\"#2a3f5f\"},\"baxis\":{\"endlinecolor\":\"#2a3f5f\",\"gridcolor\":\"white\",\"linecolor\":\"white\",\"minorgridcolor\":\"white\",\"startlinecolor\":\"#2a3f5f\"},\"type\":\"carpet\"}],\"table\":[{\"cells\":{\"fill\":{\"color\":\"#EBF0F8\"},\"line\":{\"color\":\"white\"}},\"header\":{\"fill\":{\"color\":\"#C8D4E3\"},\"line\":{\"color\":\"white\"}},\"type\":\"table\"}],\"barpolar\":[{\"marker\":{\"line\":{\"color\":\"#E5ECF6\",\"width\":0.5},\"pattern\":{\"fillmode\":\"overlay\",\"size\":10,\"solidity\":0.2}},\"type\":\"barpolar\"}],\"pie\":[{\"automargin\":true,\"type\":\"pie\"}]},\"layout\":{\"autotypenumbers\":\"strict\",\"colorway\":[\"#636efa\",\"#EF553B\",\"#00cc96\",\"#ab63fa\",\"#FFA15A\",\"#19d3f3\",\"#FF6692\",\"#B6E880\",\"#FF97FF\",\"#FECB52\"],\"font\":{\"color\":\"#2a3f5f\"},\"hovermode\":\"closest\",\"hoverlabel\":{\"align\":\"left\"},\"paper_bgcolor\":\"white\",\"plot_bgcolor\":\"#E5ECF6\",\"polar\":{\"bgcolor\":\"#E5ECF6\",\"angularaxis\":{\"gridcolor\":\"white\",\"linecolor\":\"white\",\"ticks\":\"\"},\"radialaxis\":{\"gridcolor\":\"white\",\"linecolor\":\"white\",\"ticks\":\"\"}},\"ternary\":{\"bgcolor\":\"#E5ECF6\",\"aaxis\":{\"gridcolor\":\"white\",\"linecolor\":\"white\",\"ticks\":\"\"},\"baxis\":{\"gridcolor\":\"white\",\"linecolor\":\"white\",\"ticks\":\"\"},\"caxis\":{\"gridcolor\":\"white\",\"linecolor\":\"white\",\"ticks\":\"\"}},\"coloraxis\":{\"colorbar\":{\"outlinewidth\":0,\"ticks\":\"\"}},\"colorscale\":{\"sequential\":[[0.0,\"#0d0887\"],[0.1111111111111111,\"#46039f\"],[0.2222222222222222,\"#7201a8\"],[0.3333333333333333,\"#9c179e\"],[0.4444444444444444,\"#bd3786\"],[0.5555555555555556,\"#d8576b\"],[0.6666666666666666,\"#ed7953\"],[0.7777777777777778,\"#fb9f3a\"],[0.8888888888888888,\"#fdca26\"],[1.0,\"#f0f921\"]],\"sequentialminus\":[[0.0,\"#0d0887\"],[0.1111111111111111,\"#46039f\"],[0.2222222222222222,\"#7201a8\"],[0.3333333333333333,\"#9c179e\"],[0.4444444444444444,\"#bd3786\"],[0.5555555555555556,\"#d8576b\"],[0.6666666666666666,\"#ed7953\"],[0.7777777777777778,\"#fb9f3a\"],[0.8888888888888888,\"#fdca26\"],[1.0,\"#f0f921\"]],\"diverging\":[[0,\"#8e0152\"],[0.1,\"#c51b7d\"],[0.2,\"#de77ae\"],[0.3,\"#f1b6da\"],[0.4,\"#fde0ef\"],[0.5,\"#f7f7f7\"],[0.6,\"#e6f5d0\"],[0.7,\"#b8e186\"],[0.8,\"#7fbc41\"],[0.9,\"#4d9221\"],[1,\"#276419\"]]},\"xaxis\":{\"gridcolor\":\"white\",\"linecolor\":\"white\",\"ticks\":\"\",\"title\":{\"standoff\":15},\"zerolinecolor\":\"white\",\"automargin\":true,\"zerolinewidth\":2},\"yaxis\":{\"gridcolor\":\"white\",\"linecolor\":\"white\",\"ticks\":\"\",\"title\":{\"standoff\":15},\"zerolinecolor\":\"white\",\"automargin\":true,\"zerolinewidth\":2},\"scene\":{\"xaxis\":{\"backgroundcolor\":\"#E5ECF6\",\"gridcolor\":\"white\",\"linecolor\":\"white\",\"showbackground\":true,\"ticks\":\"\",\"zerolinecolor\":\"white\",\"gridwidth\":2},\"yaxis\":{\"backgroundcolor\":\"#E5ECF6\",\"gridcolor\":\"white\",\"linecolor\":\"white\",\"showbackground\":true,\"ticks\":\"\",\"zerolinecolor\":\"white\",\"gridwidth\":2},\"zaxis\":{\"backgroundcolor\":\"#E5ECF6\",\"gridcolor\":\"white\",\"linecolor\":\"white\",\"showbackground\":true,\"ticks\":\"\",\"zerolinecolor\":\"white\",\"gridwidth\":2}},\"shapedefaults\":{\"line\":{\"color\":\"#2a3f5f\"}},\"annotationdefaults\":{\"arrowcolor\":\"#2a3f5f\",\"arrowhead\":0,\"arrowwidth\":1},\"geo\":{\"bgcolor\":\"white\",\"landcolor\":\"#E5ECF6\",\"subunitcolor\":\"white\",\"showland\":true,\"showlakes\":true,\"lakecolor\":\"white\"},\"title\":{\"x\":0.05},\"mapbox\":{\"style\":\"light\"}}},\"xaxis\":{\"anchor\":\"y\",\"domain\":[0.0,1.0],\"title\":{\"text\":\"marca\"}},\"yaxis\":{\"anchor\":\"x\",\"domain\":[0.0,1.0],\"title\":{\"text\":\"Fecha Media de Fabricaci\\u00f3n\"},\"range\":[1990,2025]},\"legend\":{\"tracegroupgap\":0},\"title\":{\"text\":\"Fecha media de fabricacion por marca\"},\"barmode\":\"relative\"},                        {\"responsive\": true}                    ).then(function(){\n",
       "                            \n",
       "var gd = document.getElementById('ef398abf-58ed-4837-8715-4c1f03885f59');\n",
       "var x = new MutationObserver(function (mutations, observer) {{\n",
       "        var display = window.getComputedStyle(gd).display;\n",
       "        if (!display || display === 'none') {{\n",
       "            console.log([gd, 'removed!']);\n",
       "            Plotly.purge(gd);\n",
       "            observer.disconnect();\n",
       "        }}\n",
       "}});\n",
       "\n",
       "// Listen for the removal of the full notebook cells\n",
       "var notebookContainer = gd.closest('#notebook-container');\n",
       "if (notebookContainer) {{\n",
       "    x.observe(notebookContainer, {childList: true});\n",
       "}}\n",
       "\n",
       "// Listen for the clearing of the current output cell\n",
       "var outputEl = gd.closest('.output');\n",
       "if (outputEl) {{\n",
       "    x.observe(outputEl, {childList: true});\n",
       "}}\n",
       "\n",
       "                        })                };                });            </script>        </div>"
      ]
     },
     "metadata": {},
     "output_type": "display_data"
    }
   ],
   "source": [
    "fecha_media_por_marca = df.groupby('make')['year'].mean().reset_index()\n",
    "fecha_media_por_marca.columns = ['marca', 'fecha_media']\n",
    "\n",
    "fig = px.bar(fecha_media_por_marca,x=\"marca\", y=\"fecha_media\", title=\"Fecha media de fabricacion por marca\")\n",
    "fig.update_yaxes(range=[1990, 2025], title='Fecha Media de Fabricación')\n",
    "\n",
    "\n",
    "# Mostrar el gráfico\n",
    "fig.show()\n",
    "\n"
   ]
  },
  {
   "cell_type": "markdown",
   "metadata": {},
   "source": [
    "En conclusión el análisis de la fecha media de fabricación de los vehículos por marca puede proporcionar una visión clara de cómo las preferencias de los usuarios hacia diferentes marcas de coches han evolucionado a lo largo del tiempo. Esta información es valiosa para fabricantes, concesionarios y vendedores de coches de segunda mano, ya que les permite entender mejor las tendencias del mercado y adaptar sus estrategias en consecuencia."
   ]
  },
  {
   "cell_type": "markdown",
   "metadata": {},
   "source": [
    "# Conclusión\n",
    "\n",
    "El análisis de los datos de anuncios de ventas de vehículos de segunda mano en España revela una serie de tendencias y patrones significativos. En primer lugar, se observa una amplia variabilidad en los precios medios de venta por marca. Por ejemplo, marcas de lujo como Lamborghini, Ferrari y Bentley mantienen precios significativamente más altos en comparación con marcas más económicas como ARO, VAZ y DAEWOO. Esto subraya la importancia de la marca en la determinación del valor en el mercado de segunda mano.\n",
    "\n",
    "Además, en cuanto a la adopción de vehículos eléctricos, se evidencia una variabilidad considerable entre las provincias. Por ejemplo, provincias como Segovia y Zamora lideran en términos de porcentaje de vehículos eléctricos en comparación con el total de vehículos vendidos. Esto indica que ciertas regiones están más avanzadas en la transición hacia vehículos eléctricos, posiblemente debido a políticas gubernamentales, incentivos o mayor conciencia ambiental.\n",
    "\n",
    "Por otro lado, la marca del vehículo sigue siendo un factor crucial en su valor en el mercado de segunda mano. Las marcas de prestigio, como se mencionó anteriormente, mantienen un valor más alto. Sin embargo, las marcas más comunes y de menor costo inicial suelen tener precios más bajos. Esto resalta la importancia de la marca como un factor determinante en la percepción del valor y la demanda.\n",
    "\n",
    "Asimismo, la variabilidad en la adopción de vehículos eléctricos entre las provincias sugiere que la transición hacia vehículos eléctricos no es uniforme en todo el país. Factores como la infraestructura de carga, políticas de incentivos y preferencias del consumidor pueden influir en esta variabilidad.\n",
    "\n",
    "El análisis también revela oportunidades y desafíos en el mercado de segunda mano. Por un lado, las marcas de lujo y vehículos eléctricos representan oportunidades de inversión y mercado debido a su valor y demanda. Por otro lado, las marcas más comunes y vehículos de combustión tradicional enfrentan desafíos en términos de depreciación y competencia.\n",
    "\n",
    "Además, la localización geográfica juega un papel crucial en la determinación del precio y la adopción de vehículos eléctricos. Las provincias con mayor adopción de vehículos eléctricos, como se mencionó anteriormente, pueden estar influenciadas por factores locales como políticas de sostenibilidad y accesibilidad a la infraestructura de carga.\n",
    "\n",
    "En el futuro, es probable que la adopción de vehículos eléctricos continúe creciendo, especialmente en provincias que actualmente muestran altos niveles de adopción. Además, la percepción del valor de las marcas de lujo y prestigio es probable que continúe siendo alta, lo que podría influir en las tendencias de compra y venta en el mercado de segunda mano.\n",
    "\n",
    "En resumen, el análisis de los datos de ventas de vehículos de segunda mano en España proporciona una visión detallada de las tendencias y patrones en el mercado. La marca del vehículo y la localización geográfica son factores clave que influyen en el precio y la demanda, especialmente en el contexto de la transición hacia vehículos eléctricos."
   ]
  }
 ],
 "metadata": {
  "kernelspec": {
   "display_name": "Python 3",
   "language": "python",
   "name": "python3"
  },
  "language_info": {
   "codemirror_mode": {
    "name": "ipython",
    "version": 3
   },
   "file_extension": ".py",
   "mimetype": "text/x-python",
   "name": "python",
   "nbconvert_exporter": "python",
   "pygments_lexer": "ipython3",
   "version": "3.12.5"
  }
 },
 "nbformat": 4,
 "nbformat_minor": 2
}
